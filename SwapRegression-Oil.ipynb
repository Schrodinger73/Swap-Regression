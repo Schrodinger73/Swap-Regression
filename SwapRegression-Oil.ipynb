{
 "cells": [
  {
   "cell_type": "code",
   "execution_count": 1,
   "id": "d624d62a-f703-4ce5-96ca-fb7410f027d5",
   "metadata": {},
   "outputs": [],
   "source": [
    "import numpy as np\n",
    "import matplotlib.pyplot as plt\n",
    "import random\n",
    "import pandas as pd\n",
    "from tqdm import tqdm\n",
    "from scipy import stats"
   ]
  },
  {
   "cell_type": "code",
   "execution_count": 2,
   "id": "1f8c50aa-5bb6-4192-8a4f-084f5b79f601",
   "metadata": {},
   "outputs": [
    {
     "data": {
      "text/html": [
       "<div>\n",
       "<style scoped>\n",
       "    .dataframe tbody tr th:only-of-type {\n",
       "        vertical-align: middle;\n",
       "    }\n",
       "\n",
       "    .dataframe tbody tr th {\n",
       "        vertical-align: top;\n",
       "    }\n",
       "\n",
       "    .dataframe thead th {\n",
       "        text-align: right;\n",
       "    }\n",
       "</style>\n",
       "<table border=\"1\" class=\"dataframe\">\n",
       "  <thead>\n",
       "    <tr style=\"text-align: right;\">\n",
       "      <th></th>\n",
       "      <th>cty_name</th>\n",
       "      <th>iso3numeric</th>\n",
       "      <th>id</th>\n",
       "      <th>year</th>\n",
       "      <th>eiacty</th>\n",
       "      <th>oil_prod32_14</th>\n",
       "      <th>oil_price_2000</th>\n",
       "      <th>oil_price_nom</th>\n",
       "      <th>oil_value_nom</th>\n",
       "      <th>oil_value_2000</th>\n",
       "      <th>...</th>\n",
       "      <th>net_gas_exports_mboe</th>\n",
       "      <th>net_gas_exports_value</th>\n",
       "      <th>net_gas_exports_valuePOP</th>\n",
       "      <th>net_oil_gas_exports_valuePOP</th>\n",
       "      <th>population</th>\n",
       "      <th>pop_maddison</th>\n",
       "      <th>sovereign</th>\n",
       "      <th>mult_nom_2000</th>\n",
       "      <th>mult_nom_2014</th>\n",
       "      <th>mult_2000_2014</th>\n",
       "    </tr>\n",
       "  </thead>\n",
       "  <tbody>\n",
       "    <tr>\n",
       "      <th>0</th>\n",
       "      <td>Afghanistan</td>\n",
       "      <td>4</td>\n",
       "      <td>AFG</td>\n",
       "      <td>1932</td>\n",
       "      <td>Afghanistan</td>\n",
       "      <td>NaN</td>\n",
       "      <td>10.860860</td>\n",
       "      <td>0.87</td>\n",
       "      <td>NaN</td>\n",
       "      <td>NaN</td>\n",
       "      <td>...</td>\n",
       "      <td>NaN</td>\n",
       "      <td>NaN</td>\n",
       "      <td>NaN</td>\n",
       "      <td>NaN</td>\n",
       "      <td>NaN</td>\n",
       "      <td>NaN</td>\n",
       "      <td>1</td>\n",
       "      <td>12.599874</td>\n",
       "      <td>17.321973</td>\n",
       "      <td>1.374774</td>\n",
       "    </tr>\n",
       "    <tr>\n",
       "      <th>1</th>\n",
       "      <td>Afghanistan</td>\n",
       "      <td>4</td>\n",
       "      <td>AFG</td>\n",
       "      <td>1933</td>\n",
       "      <td>Afghanistan</td>\n",
       "      <td>NaN</td>\n",
       "      <td>8.815239</td>\n",
       "      <td>0.67</td>\n",
       "      <td>NaN</td>\n",
       "      <td>NaN</td>\n",
       "      <td>...</td>\n",
       "      <td>NaN</td>\n",
       "      <td>NaN</td>\n",
       "      <td>NaN</td>\n",
       "      <td>NaN</td>\n",
       "      <td>NaN</td>\n",
       "      <td>NaN</td>\n",
       "      <td>1</td>\n",
       "      <td>13.280064</td>\n",
       "      <td>18.257080</td>\n",
       "      <td>1.374774</td>\n",
       "    </tr>\n",
       "    <tr>\n",
       "      <th>2</th>\n",
       "      <td>Afghanistan</td>\n",
       "      <td>4</td>\n",
       "      <td>AFG</td>\n",
       "      <td>1934</td>\n",
       "      <td>Afghanistan</td>\n",
       "      <td>NaN</td>\n",
       "      <td>12.715790</td>\n",
       "      <td>1.00</td>\n",
       "      <td>NaN</td>\n",
       "      <td>NaN</td>\n",
       "      <td>...</td>\n",
       "      <td>NaN</td>\n",
       "      <td>NaN</td>\n",
       "      <td>NaN</td>\n",
       "      <td>NaN</td>\n",
       "      <td>NaN</td>\n",
       "      <td>NaN</td>\n",
       "      <td>1</td>\n",
       "      <td>12.853008</td>\n",
       "      <td>17.669975</td>\n",
       "      <td>1.374774</td>\n",
       "    </tr>\n",
       "    <tr>\n",
       "      <th>3</th>\n",
       "      <td>Afghanistan</td>\n",
       "      <td>4</td>\n",
       "      <td>AFG</td>\n",
       "      <td>1935</td>\n",
       "      <td>Afghanistan</td>\n",
       "      <td>NaN</td>\n",
       "      <td>12.039690</td>\n",
       "      <td>0.97</td>\n",
       "      <td>NaN</td>\n",
       "      <td>NaN</td>\n",
       "      <td>...</td>\n",
       "      <td>NaN</td>\n",
       "      <td>NaN</td>\n",
       "      <td>NaN</td>\n",
       "      <td>NaN</td>\n",
       "      <td>NaN</td>\n",
       "      <td>NaN</td>\n",
       "      <td>1</td>\n",
       "      <td>12.537882</td>\n",
       "      <td>17.236748</td>\n",
       "      <td>1.374774</td>\n",
       "    </tr>\n",
       "    <tr>\n",
       "      <th>4</th>\n",
       "      <td>Afghanistan</td>\n",
       "      <td>4</td>\n",
       "      <td>AFG</td>\n",
       "      <td>1936</td>\n",
       "      <td>Afghanistan</td>\n",
       "      <td>NaN</td>\n",
       "      <td>13.383210</td>\n",
       "      <td>1.09</td>\n",
       "      <td>NaN</td>\n",
       "      <td>NaN</td>\n",
       "      <td>...</td>\n",
       "      <td>NaN</td>\n",
       "      <td>NaN</td>\n",
       "      <td>NaN</td>\n",
       "      <td>NaN</td>\n",
       "      <td>NaN</td>\n",
       "      <td>NaN</td>\n",
       "      <td>1</td>\n",
       "      <td>12.420786</td>\n",
       "      <td>17.075768</td>\n",
       "      <td>1.374774</td>\n",
       "    </tr>\n",
       "  </tbody>\n",
       "</table>\n",
       "<p>5 rows × 41 columns</p>\n",
       "</div>"
      ],
      "text/plain": [
       "      cty_name  iso3numeric   id  year       eiacty  oil_prod32_14  \\\n",
       "0  Afghanistan            4  AFG  1932  Afghanistan            NaN   \n",
       "1  Afghanistan            4  AFG  1933  Afghanistan            NaN   \n",
       "2  Afghanistan            4  AFG  1934  Afghanistan            NaN   \n",
       "3  Afghanistan            4  AFG  1935  Afghanistan            NaN   \n",
       "4  Afghanistan            4  AFG  1936  Afghanistan            NaN   \n",
       "\n",
       "   oil_price_2000  oil_price_nom  oil_value_nom  oil_value_2000  ...  \\\n",
       "0       10.860860           0.87            NaN             NaN  ...   \n",
       "1        8.815239           0.67            NaN             NaN  ...   \n",
       "2       12.715790           1.00            NaN             NaN  ...   \n",
       "3       12.039690           0.97            NaN             NaN  ...   \n",
       "4       13.383210           1.09            NaN             NaN  ...   \n",
       "\n",
       "   net_gas_exports_mboe  net_gas_exports_value  net_gas_exports_valuePOP  \\\n",
       "0                   NaN                    NaN                       NaN   \n",
       "1                   NaN                    NaN                       NaN   \n",
       "2                   NaN                    NaN                       NaN   \n",
       "3                   NaN                    NaN                       NaN   \n",
       "4                   NaN                    NaN                       NaN   \n",
       "\n",
       "   net_oil_gas_exports_valuePOP  population  pop_maddison  sovereign  \\\n",
       "0                           NaN         NaN           NaN          1   \n",
       "1                           NaN         NaN           NaN          1   \n",
       "2                           NaN         NaN           NaN          1   \n",
       "3                           NaN         NaN           NaN          1   \n",
       "4                           NaN         NaN           NaN          1   \n",
       "\n",
       "   mult_nom_2000  mult_nom_2014  mult_2000_2014  \n",
       "0      12.599874      17.321973        1.374774  \n",
       "1      13.280064      18.257080        1.374774  \n",
       "2      12.853008      17.669975        1.374774  \n",
       "3      12.537882      17.236748        1.374774  \n",
       "4      12.420786      17.075768        1.374774  \n",
       "\n",
       "[5 rows x 41 columns]"
      ]
     },
     "execution_count": 2,
     "metadata": {},
     "output_type": "execute_result"
    }
   ],
   "source": [
    "df = pd.read_csv(\"Datasets/Oil and Gas 1932-2014.csv\")\n",
    "df.head()"
   ]
  },
  {
   "cell_type": "code",
   "execution_count": 3,
   "id": "89824a60-ab89-4c41-9b19-8f8092cd5d13",
   "metadata": {},
   "outputs": [],
   "source": [
    "df.dropna(subset = [\"oil_price_2000\", \"gas_price_2000\", \"oil_price_nom\", \"gas_price_nom\"], inplace = True)\n",
    "df = df.reset_index().loc[:,\"cty_name\" : \"mult_2000_2014\"]"
   ]
  },
  {
   "cell_type": "code",
   "execution_count": 4,
   "id": "742610b8-202b-4ed9-8a45-39bf5bc92c09",
   "metadata": {},
   "outputs": [
    {
     "data": {
      "text/html": [
       "<div>\n",
       "<style scoped>\n",
       "    .dataframe tbody tr th:only-of-type {\n",
       "        vertical-align: middle;\n",
       "    }\n",
       "\n",
       "    .dataframe tbody tr th {\n",
       "        vertical-align: top;\n",
       "    }\n",
       "\n",
       "    .dataframe thead th {\n",
       "        text-align: right;\n",
       "    }\n",
       "</style>\n",
       "<table border=\"1\" class=\"dataframe\">\n",
       "  <thead>\n",
       "    <tr style=\"text-align: right;\">\n",
       "      <th></th>\n",
       "      <th>cty_name</th>\n",
       "      <th>iso3numeric</th>\n",
       "      <th>id</th>\n",
       "      <th>year</th>\n",
       "      <th>eiacty</th>\n",
       "      <th>oil_prod32_14</th>\n",
       "      <th>oil_price_2000</th>\n",
       "      <th>oil_price_nom</th>\n",
       "      <th>oil_value_nom</th>\n",
       "      <th>oil_value_2000</th>\n",
       "      <th>...</th>\n",
       "      <th>net_gas_exports_mboe</th>\n",
       "      <th>net_gas_exports_value</th>\n",
       "      <th>net_gas_exports_valuePOP</th>\n",
       "      <th>net_oil_gas_exports_valuePOP</th>\n",
       "      <th>population</th>\n",
       "      <th>pop_maddison</th>\n",
       "      <th>sovereign</th>\n",
       "      <th>mult_nom_2000</th>\n",
       "      <th>mult_nom_2014</th>\n",
       "      <th>mult_2000_2014</th>\n",
       "    </tr>\n",
       "  </thead>\n",
       "  <tbody>\n",
       "    <tr>\n",
       "      <th>0</th>\n",
       "      <td>Afghanistan</td>\n",
       "      <td>4</td>\n",
       "      <td>AFG</td>\n",
       "      <td>1955</td>\n",
       "      <td>Afghanistan</td>\n",
       "      <td>NaN</td>\n",
       "      <td>12.265060</td>\n",
       "      <td>1.930000</td>\n",
       "      <td>NaN</td>\n",
       "      <td>NaN</td>\n",
       "      <td>...</td>\n",
       "      <td>NaN</td>\n",
       "      <td>NaN</td>\n",
       "      <td>NaN</td>\n",
       "      <td>NaN</td>\n",
       "      <td>NaN</td>\n",
       "      <td>8891209.0</td>\n",
       "      <td>1</td>\n",
       "      <td>6.426504</td>\n",
       "      <td>8.834988</td>\n",
       "      <td>1.374774</td>\n",
       "    </tr>\n",
       "    <tr>\n",
       "      <th>1</th>\n",
       "      <td>Afghanistan</td>\n",
       "      <td>4</td>\n",
       "      <td>AFG</td>\n",
       "      <td>1956</td>\n",
       "      <td>Afghanistan</td>\n",
       "      <td>NaN</td>\n",
       "      <td>12.074360</td>\n",
       "      <td>1.930000</td>\n",
       "      <td>NaN</td>\n",
       "      <td>NaN</td>\n",
       "      <td>...</td>\n",
       "      <td>NaN</td>\n",
       "      <td>NaN</td>\n",
       "      <td>NaN</td>\n",
       "      <td>NaN</td>\n",
       "      <td>NaN</td>\n",
       "      <td>9061938.0</td>\n",
       "      <td>1</td>\n",
       "      <td>6.333516</td>\n",
       "      <td>8.707150</td>\n",
       "      <td>1.374774</td>\n",
       "    </tr>\n",
       "    <tr>\n",
       "      <th>2</th>\n",
       "      <td>Afghanistan</td>\n",
       "      <td>4</td>\n",
       "      <td>AFG</td>\n",
       "      <td>1957</td>\n",
       "      <td>Afghanistan</td>\n",
       "      <td>NaN</td>\n",
       "      <td>11.476280</td>\n",
       "      <td>1.900000</td>\n",
       "      <td>NaN</td>\n",
       "      <td>NaN</td>\n",
       "      <td>...</td>\n",
       "      <td>NaN</td>\n",
       "      <td>NaN</td>\n",
       "      <td>NaN</td>\n",
       "      <td>NaN</td>\n",
       "      <td>NaN</td>\n",
       "      <td>9240934.0</td>\n",
       "      <td>1</td>\n",
       "      <td>6.111378</td>\n",
       "      <td>8.401761</td>\n",
       "      <td>1.374774</td>\n",
       "    </tr>\n",
       "    <tr>\n",
       "      <th>3</th>\n",
       "      <td>Afghanistan</td>\n",
       "      <td>4</td>\n",
       "      <td>AFG</td>\n",
       "      <td>1958</td>\n",
       "      <td>Afghanistan</td>\n",
       "      <td>NaN</td>\n",
       "      <td>12.247720</td>\n",
       "      <td>2.080000</td>\n",
       "      <td>NaN</td>\n",
       "      <td>NaN</td>\n",
       "      <td>...</td>\n",
       "      <td>NaN</td>\n",
       "      <td>NaN</td>\n",
       "      <td>NaN</td>\n",
       "      <td>NaN</td>\n",
       "      <td>NaN</td>\n",
       "      <td>9428556.0</td>\n",
       "      <td>1</td>\n",
       "      <td>5.952954</td>\n",
       "      <td>8.183964</td>\n",
       "      <td>1.374774</td>\n",
       "    </tr>\n",
       "    <tr>\n",
       "      <th>4</th>\n",
       "      <td>Afghanistan</td>\n",
       "      <td>4</td>\n",
       "      <td>AFG</td>\n",
       "      <td>1959</td>\n",
       "      <td>Afghanistan</td>\n",
       "      <td>NaN</td>\n",
       "      <td>12.143710</td>\n",
       "      <td>2.080000</td>\n",
       "      <td>NaN</td>\n",
       "      <td>NaN</td>\n",
       "      <td>...</td>\n",
       "      <td>NaN</td>\n",
       "      <td>NaN</td>\n",
       "      <td>NaN</td>\n",
       "      <td>NaN</td>\n",
       "      <td>NaN</td>\n",
       "      <td>9624606.0</td>\n",
       "      <td>1</td>\n",
       "      <td>5.901294</td>\n",
       "      <td>8.112943</td>\n",
       "      <td>1.374774</td>\n",
       "    </tr>\n",
       "    <tr>\n",
       "      <th>...</th>\n",
       "      <td>...</td>\n",
       "      <td>...</td>\n",
       "      <td>...</td>\n",
       "      <td>...</td>\n",
       "      <td>...</td>\n",
       "      <td>...</td>\n",
       "      <td>...</td>\n",
       "      <td>...</td>\n",
       "      <td>...</td>\n",
       "      <td>...</td>\n",
       "      <td>...</td>\n",
       "      <td>...</td>\n",
       "      <td>...</td>\n",
       "      <td>...</td>\n",
       "      <td>...</td>\n",
       "      <td>...</td>\n",
       "      <td>...</td>\n",
       "      <td>...</td>\n",
       "      <td>...</td>\n",
       "      <td>...</td>\n",
       "      <td>...</td>\n",
       "    </tr>\n",
       "    <tr>\n",
       "      <th>11215</th>\n",
       "      <td>Zimbabwe</td>\n",
       "      <td>716</td>\n",
       "      <td>ZWE</td>\n",
       "      <td>2010</td>\n",
       "      <td>Zimbabwe</td>\n",
       "      <td>0.0</td>\n",
       "      <td>62.778052</td>\n",
       "      <td>79.495534</td>\n",
       "      <td>0.0</td>\n",
       "      <td>0.0</td>\n",
       "      <td>...</td>\n",
       "      <td>0.0</td>\n",
       "      <td>0.0</td>\n",
       "      <td>0.0</td>\n",
       "      <td>0.0</td>\n",
       "      <td>12571454.0</td>\n",
       "      <td>NaN</td>\n",
       "      <td>1</td>\n",
       "      <td>0.789705</td>\n",
       "      <td>1.085666</td>\n",
       "      <td>1.374774</td>\n",
       "    </tr>\n",
       "    <tr>\n",
       "      <th>11216</th>\n",
       "      <td>Zimbabwe</td>\n",
       "      <td>716</td>\n",
       "      <td>ZWE</td>\n",
       "      <td>2011</td>\n",
       "      <td>Zimbabwe</td>\n",
       "      <td>0.0</td>\n",
       "      <td>85.170708</td>\n",
       "      <td>111.255598</td>\n",
       "      <td>0.0</td>\n",
       "      <td>0.0</td>\n",
       "      <td>...</td>\n",
       "      <td>0.0</td>\n",
       "      <td>0.0</td>\n",
       "      <td>0.0</td>\n",
       "      <td>0.0</td>\n",
       "      <td>12754378.0</td>\n",
       "      <td>NaN</td>\n",
       "      <td>1</td>\n",
       "      <td>0.765541</td>\n",
       "      <td>1.052445</td>\n",
       "      <td>1.374774</td>\n",
       "    </tr>\n",
       "    <tr>\n",
       "      <th>11217</th>\n",
       "      <td>Zimbabwe</td>\n",
       "      <td>716</td>\n",
       "      <td>ZWE</td>\n",
       "      <td>2012</td>\n",
       "      <td>Zimbabwe</td>\n",
       "      <td>0.0</td>\n",
       "      <td>83.754465</td>\n",
       "      <td>111.669702</td>\n",
       "      <td>0.0</td>\n",
       "      <td>0.0</td>\n",
       "      <td>...</td>\n",
       "      <td>0.0</td>\n",
       "      <td>0.0</td>\n",
       "      <td>0.0</td>\n",
       "      <td>0.0</td>\n",
       "      <td>13724317.0</td>\n",
       "      <td>NaN</td>\n",
       "      <td>1</td>\n",
       "      <td>0.750020</td>\n",
       "      <td>1.031107</td>\n",
       "      <td>1.374774</td>\n",
       "    </tr>\n",
       "    <tr>\n",
       "      <th>11218</th>\n",
       "      <td>Zimbabwe</td>\n",
       "      <td>716</td>\n",
       "      <td>ZWE</td>\n",
       "      <td>2013</td>\n",
       "      <td>Zimbabwe</td>\n",
       "      <td>0.0</td>\n",
       "      <td>80.319530</td>\n",
       "      <td>108.658518</td>\n",
       "      <td>0.0</td>\n",
       "      <td>0.0</td>\n",
       "      <td>...</td>\n",
       "      <td>0.0</td>\n",
       "      <td>NaN</td>\n",
       "      <td>NaN</td>\n",
       "      <td>NaN</td>\n",
       "      <td>14149648.0</td>\n",
       "      <td>NaN</td>\n",
       "      <td>1</td>\n",
       "      <td>0.739192</td>\n",
       "      <td>1.016222</td>\n",
       "      <td>1.374774</td>\n",
       "    </tr>\n",
       "    <tr>\n",
       "      <th>11219</th>\n",
       "      <td>Zimbabwe</td>\n",
       "      <td>716</td>\n",
       "      <td>ZWE</td>\n",
       "      <td>2014</td>\n",
       "      <td>Zimbabwe</td>\n",
       "      <td>0.0</td>\n",
       "      <td>71.972588</td>\n",
       "      <td>98.946008</td>\n",
       "      <td>0.0</td>\n",
       "      <td>0.0</td>\n",
       "      <td>...</td>\n",
       "      <td>NaN</td>\n",
       "      <td>NaN</td>\n",
       "      <td>NaN</td>\n",
       "      <td>NaN</td>\n",
       "      <td>14599325.0</td>\n",
       "      <td>NaN</td>\n",
       "      <td>1</td>\n",
       "      <td>0.727393</td>\n",
       "      <td>1.000000</td>\n",
       "      <td>1.374774</td>\n",
       "    </tr>\n",
       "  </tbody>\n",
       "</table>\n",
       "<p>11220 rows × 41 columns</p>\n",
       "</div>"
      ],
      "text/plain": [
       "          cty_name  iso3numeric   id  year       eiacty  oil_prod32_14  \\\n",
       "0      Afghanistan            4  AFG  1955  Afghanistan            NaN   \n",
       "1      Afghanistan            4  AFG  1956  Afghanistan            NaN   \n",
       "2      Afghanistan            4  AFG  1957  Afghanistan            NaN   \n",
       "3      Afghanistan            4  AFG  1958  Afghanistan            NaN   \n",
       "4      Afghanistan            4  AFG  1959  Afghanistan            NaN   \n",
       "...            ...          ...  ...   ...          ...            ...   \n",
       "11215     Zimbabwe          716  ZWE  2010     Zimbabwe            0.0   \n",
       "11216     Zimbabwe          716  ZWE  2011     Zimbabwe            0.0   \n",
       "11217     Zimbabwe          716  ZWE  2012     Zimbabwe            0.0   \n",
       "11218     Zimbabwe          716  ZWE  2013     Zimbabwe            0.0   \n",
       "11219     Zimbabwe          716  ZWE  2014     Zimbabwe            0.0   \n",
       "\n",
       "       oil_price_2000  oil_price_nom  oil_value_nom  oil_value_2000  ...  \\\n",
       "0           12.265060       1.930000            NaN             NaN  ...   \n",
       "1           12.074360       1.930000            NaN             NaN  ...   \n",
       "2           11.476280       1.900000            NaN             NaN  ...   \n",
       "3           12.247720       2.080000            NaN             NaN  ...   \n",
       "4           12.143710       2.080000            NaN             NaN  ...   \n",
       "...               ...            ...            ...             ...  ...   \n",
       "11215       62.778052      79.495534            0.0             0.0  ...   \n",
       "11216       85.170708     111.255598            0.0             0.0  ...   \n",
       "11217       83.754465     111.669702            0.0             0.0  ...   \n",
       "11218       80.319530     108.658518            0.0             0.0  ...   \n",
       "11219       71.972588      98.946008            0.0             0.0  ...   \n",
       "\n",
       "       net_gas_exports_mboe  net_gas_exports_value  net_gas_exports_valuePOP  \\\n",
       "0                       NaN                    NaN                       NaN   \n",
       "1                       NaN                    NaN                       NaN   \n",
       "2                       NaN                    NaN                       NaN   \n",
       "3                       NaN                    NaN                       NaN   \n",
       "4                       NaN                    NaN                       NaN   \n",
       "...                     ...                    ...                       ...   \n",
       "11215                   0.0                    0.0                       0.0   \n",
       "11216                   0.0                    0.0                       0.0   \n",
       "11217                   0.0                    0.0                       0.0   \n",
       "11218                   0.0                    NaN                       NaN   \n",
       "11219                   NaN                    NaN                       NaN   \n",
       "\n",
       "       net_oil_gas_exports_valuePOP  population  pop_maddison  sovereign  \\\n",
       "0                               NaN         NaN     8891209.0          1   \n",
       "1                               NaN         NaN     9061938.0          1   \n",
       "2                               NaN         NaN     9240934.0          1   \n",
       "3                               NaN         NaN     9428556.0          1   \n",
       "4                               NaN         NaN     9624606.0          1   \n",
       "...                             ...         ...           ...        ...   \n",
       "11215                           0.0  12571454.0           NaN          1   \n",
       "11216                           0.0  12754378.0           NaN          1   \n",
       "11217                           0.0  13724317.0           NaN          1   \n",
       "11218                           NaN  14149648.0           NaN          1   \n",
       "11219                           NaN  14599325.0           NaN          1   \n",
       "\n",
       "       mult_nom_2000  mult_nom_2014  mult_2000_2014  \n",
       "0           6.426504       8.834988        1.374774  \n",
       "1           6.333516       8.707150        1.374774  \n",
       "2           6.111378       8.401761        1.374774  \n",
       "3           5.952954       8.183964        1.374774  \n",
       "4           5.901294       8.112943        1.374774  \n",
       "...              ...            ...             ...  \n",
       "11215       0.789705       1.085666        1.374774  \n",
       "11216       0.765541       1.052445        1.374774  \n",
       "11217       0.750020       1.031107        1.374774  \n",
       "11218       0.739192       1.016222        1.374774  \n",
       "11219       0.727393       1.000000        1.374774  \n",
       "\n",
       "[11220 rows x 41 columns]"
      ]
     },
     "execution_count": 4,
     "metadata": {},
     "output_type": "execute_result"
    }
   ],
   "source": [
    "df"
   ]
  },
  {
   "cell_type": "code",
   "execution_count": 5,
   "id": "96754e58-3fb7-42f6-aa9a-c250ecabafec",
   "metadata": {},
   "outputs": [
    {
     "data": {
      "image/png": "[encoded data removed]",
      "text/plain": [
       "<Figure size 640x480 with 1 Axes>"
      ]
     },
     "metadata": {},
     "output_type": "display_data"
    }
   ],
   "source": [
    "X = np.array(df[\"oil_price_2000\"])\n",
    "Y = np.array(df[\"gas_price_2000\"])\n",
    "X = X/100\n",
    "#Y = Y/1000\n",
    "Z = []\n",
    "for i in X:\n",
    "    if i > 0.45:\n",
    "        Z.append(0)\n",
    "    else:\n",
    "        Z.append(1)\n",
    "\n",
    "X = np.array(X)\n",
    "Y = np.array(Y)\n",
    "Z = np.array(Z)        \n",
    "\n",
    "X1 = X[Z == 1]\n",
    "X2 = X[Z == 0]\n",
    "Y1 = Y[Z == 1]\n",
    "Y2 = Y[Z == 0]\n",
    "\n",
    "plt.figure()\n",
    "plt.scatter(X1, Y1, c = \"orange\", label = \"Y on X\")\n",
    "plt.scatter(X2, Y2, c = \"purple\", label = \"X on Y\")\n",
    "plt.legend()\n",
    "plt.title(\"Oil vs Gas Price\")\n",
    "plt.xlabel(\"Oil\")\n",
    "plt.ylabel(\"Gas\")\n",
    "plt.show()"
   ]
  },
  {
   "cell_type": "code",
   "execution_count": 6,
   "id": "b5fe3840-ec7a-4aeb-bffc-36feb04f81bb",
   "metadata": {
    "scrolled": true
   },
   "outputs": [
    {
     "data": {
      "text/html": [
       "<div>\n",
       "<style scoped>\n",
       "    .dataframe tbody tr th:only-of-type {\n",
       "        vertical-align: middle;\n",
       "    }\n",
       "\n",
       "    .dataframe tbody tr th {\n",
       "        vertical-align: top;\n",
       "    }\n",
       "\n",
       "    .dataframe thead th {\n",
       "        text-align: right;\n",
       "    }\n",
       "</style>\n",
       "<table border=\"1\" class=\"dataframe\">\n",
       "  <thead>\n",
       "    <tr style=\"text-align: right;\">\n",
       "      <th></th>\n",
       "      <th>year</th>\n",
       "      <th>gas_price_nom</th>\n",
       "      <th>oil_price_nom</th>\n",
       "    </tr>\n",
       "  </thead>\n",
       "  <tbody>\n",
       "    <tr>\n",
       "      <th>10560</th>\n",
       "      <td>1955</td>\n",
       "      <td>0.100000</td>\n",
       "      <td>1.930000</td>\n",
       "    </tr>\n",
       "    <tr>\n",
       "      <th>10561</th>\n",
       "      <td>1956</td>\n",
       "      <td>0.110000</td>\n",
       "      <td>1.930000</td>\n",
       "    </tr>\n",
       "    <tr>\n",
       "      <th>10562</th>\n",
       "      <td>1957</td>\n",
       "      <td>0.110000</td>\n",
       "      <td>1.900000</td>\n",
       "    </tr>\n",
       "    <tr>\n",
       "      <th>10563</th>\n",
       "      <td>1958</td>\n",
       "      <td>0.120000</td>\n",
       "      <td>2.080000</td>\n",
       "    </tr>\n",
       "    <tr>\n",
       "      <th>10564</th>\n",
       "      <td>1959</td>\n",
       "      <td>0.130000</td>\n",
       "      <td>2.080000</td>\n",
       "    </tr>\n",
       "    <tr>\n",
       "      <th>10565</th>\n",
       "      <td>1960</td>\n",
       "      <td>0.140000</td>\n",
       "      <td>1.900000</td>\n",
       "    </tr>\n",
       "    <tr>\n",
       "      <th>10566</th>\n",
       "      <td>1961</td>\n",
       "      <td>0.150000</td>\n",
       "      <td>1.800000</td>\n",
       "    </tr>\n",
       "    <tr>\n",
       "      <th>10567</th>\n",
       "      <td>1962</td>\n",
       "      <td>0.160000</td>\n",
       "      <td>1.800000</td>\n",
       "    </tr>\n",
       "    <tr>\n",
       "      <th>10568</th>\n",
       "      <td>1963</td>\n",
       "      <td>0.160000</td>\n",
       "      <td>1.800000</td>\n",
       "    </tr>\n",
       "    <tr>\n",
       "      <th>10569</th>\n",
       "      <td>1964</td>\n",
       "      <td>0.150000</td>\n",
       "      <td>1.800000</td>\n",
       "    </tr>\n",
       "    <tr>\n",
       "      <th>10570</th>\n",
       "      <td>1965</td>\n",
       "      <td>0.160000</td>\n",
       "      <td>1.800000</td>\n",
       "    </tr>\n",
       "    <tr>\n",
       "      <th>10571</th>\n",
       "      <td>1966</td>\n",
       "      <td>0.160000</td>\n",
       "      <td>1.800000</td>\n",
       "    </tr>\n",
       "    <tr>\n",
       "      <th>10572</th>\n",
       "      <td>1967</td>\n",
       "      <td>0.160000</td>\n",
       "      <td>1.800000</td>\n",
       "    </tr>\n",
       "    <tr>\n",
       "      <th>10573</th>\n",
       "      <td>1968</td>\n",
       "      <td>0.160000</td>\n",
       "      <td>1.800000</td>\n",
       "    </tr>\n",
       "    <tr>\n",
       "      <th>10574</th>\n",
       "      <td>1969</td>\n",
       "      <td>0.170000</td>\n",
       "      <td>1.800000</td>\n",
       "    </tr>\n",
       "    <tr>\n",
       "      <th>10575</th>\n",
       "      <td>1970</td>\n",
       "      <td>0.170000</td>\n",
       "      <td>1.800000</td>\n",
       "    </tr>\n",
       "    <tr>\n",
       "      <th>10576</th>\n",
       "      <td>1971</td>\n",
       "      <td>0.180000</td>\n",
       "      <td>2.240000</td>\n",
       "    </tr>\n",
       "    <tr>\n",
       "      <th>10577</th>\n",
       "      <td>1972</td>\n",
       "      <td>0.190000</td>\n",
       "      <td>2.480000</td>\n",
       "    </tr>\n",
       "    <tr>\n",
       "      <th>10578</th>\n",
       "      <td>1973</td>\n",
       "      <td>0.220000</td>\n",
       "      <td>3.290000</td>\n",
       "    </tr>\n",
       "    <tr>\n",
       "      <th>10579</th>\n",
       "      <td>1974</td>\n",
       "      <td>0.300000</td>\n",
       "      <td>11.580000</td>\n",
       "    </tr>\n",
       "    <tr>\n",
       "      <th>10580</th>\n",
       "      <td>1975</td>\n",
       "      <td>0.440000</td>\n",
       "      <td>11.530000</td>\n",
       "    </tr>\n",
       "    <tr>\n",
       "      <th>10581</th>\n",
       "      <td>1976</td>\n",
       "      <td>0.580000</td>\n",
       "      <td>12.800000</td>\n",
       "    </tr>\n",
       "    <tr>\n",
       "      <th>10582</th>\n",
       "      <td>1977</td>\n",
       "      <td>0.790000</td>\n",
       "      <td>13.920000</td>\n",
       "    </tr>\n",
       "    <tr>\n",
       "      <th>10583</th>\n",
       "      <td>1978</td>\n",
       "      <td>0.910000</td>\n",
       "      <td>14.020000</td>\n",
       "    </tr>\n",
       "    <tr>\n",
       "      <th>10584</th>\n",
       "      <td>1979</td>\n",
       "      <td>1.180000</td>\n",
       "      <td>31.610000</td>\n",
       "    </tr>\n",
       "    <tr>\n",
       "      <th>10585</th>\n",
       "      <td>1980</td>\n",
       "      <td>1.590000</td>\n",
       "      <td>36.830000</td>\n",
       "    </tr>\n",
       "    <tr>\n",
       "      <th>10586</th>\n",
       "      <td>1981</td>\n",
       "      <td>1.980000</td>\n",
       "      <td>35.930000</td>\n",
       "    </tr>\n",
       "    <tr>\n",
       "      <th>10587</th>\n",
       "      <td>1982</td>\n",
       "      <td>2.460000</td>\n",
       "      <td>32.970000</td>\n",
       "    </tr>\n",
       "    <tr>\n",
       "      <th>10588</th>\n",
       "      <td>1983</td>\n",
       "      <td>2.590000</td>\n",
       "      <td>29.550000</td>\n",
       "    </tr>\n",
       "    <tr>\n",
       "      <th>10589</th>\n",
       "      <td>1984</td>\n",
       "      <td>2.660000</td>\n",
       "      <td>28.780000</td>\n",
       "    </tr>\n",
       "    <tr>\n",
       "      <th>10590</th>\n",
       "      <td>1985</td>\n",
       "      <td>2.510000</td>\n",
       "      <td>27.560000</td>\n",
       "    </tr>\n",
       "    <tr>\n",
       "      <th>10591</th>\n",
       "      <td>1986</td>\n",
       "      <td>1.940000</td>\n",
       "      <td>14.430000</td>\n",
       "    </tr>\n",
       "    <tr>\n",
       "      <th>10592</th>\n",
       "      <td>1987</td>\n",
       "      <td>1.670000</td>\n",
       "      <td>18.435039</td>\n",
       "    </tr>\n",
       "    <tr>\n",
       "      <th>10593</th>\n",
       "      <td>1988</td>\n",
       "      <td>1.690000</td>\n",
       "      <td>14.923842</td>\n",
       "    </tr>\n",
       "    <tr>\n",
       "      <th>10594</th>\n",
       "      <td>1989</td>\n",
       "      <td>1.690000</td>\n",
       "      <td>18.226113</td>\n",
       "    </tr>\n",
       "    <tr>\n",
       "      <th>10595</th>\n",
       "      <td>1990</td>\n",
       "      <td>1.710000</td>\n",
       "      <td>23.725820</td>\n",
       "    </tr>\n",
       "    <tr>\n",
       "      <th>10596</th>\n",
       "      <td>1991</td>\n",
       "      <td>1.640000</td>\n",
       "      <td>20.003385</td>\n",
       "    </tr>\n",
       "    <tr>\n",
       "      <th>10597</th>\n",
       "      <td>1992</td>\n",
       "      <td>1.740000</td>\n",
       "      <td>19.320837</td>\n",
       "    </tr>\n",
       "    <tr>\n",
       "      <th>10598</th>\n",
       "      <td>1993</td>\n",
       "      <td>2.040000</td>\n",
       "      <td>16.971634</td>\n",
       "    </tr>\n",
       "    <tr>\n",
       "      <th>10599</th>\n",
       "      <td>1994</td>\n",
       "      <td>1.850000</td>\n",
       "      <td>15.817315</td>\n",
       "    </tr>\n",
       "    <tr>\n",
       "      <th>10600</th>\n",
       "      <td>1995</td>\n",
       "      <td>1.550000</td>\n",
       "      <td>17.016680</td>\n",
       "    </tr>\n",
       "    <tr>\n",
       "      <th>10601</th>\n",
       "      <td>1996</td>\n",
       "      <td>2.170000</td>\n",
       "      <td>20.668488</td>\n",
       "    </tr>\n",
       "    <tr>\n",
       "      <th>10602</th>\n",
       "      <td>1997</td>\n",
       "      <td>2.320000</td>\n",
       "      <td>19.092588</td>\n",
       "    </tr>\n",
       "    <tr>\n",
       "      <th>10603</th>\n",
       "      <td>1998</td>\n",
       "      <td>1.960000</td>\n",
       "      <td>12.715661</td>\n",
       "    </tr>\n",
       "    <tr>\n",
       "      <th>10604</th>\n",
       "      <td>1999</td>\n",
       "      <td>2.190000</td>\n",
       "      <td>17.970078</td>\n",
       "    </tr>\n",
       "    <tr>\n",
       "      <th>10605</th>\n",
       "      <td>2000</td>\n",
       "      <td>3.680000</td>\n",
       "      <td>28.495449</td>\n",
       "    </tr>\n",
       "    <tr>\n",
       "      <th>10606</th>\n",
       "      <td>2001</td>\n",
       "      <td>4.000000</td>\n",
       "      <td>24.443891</td>\n",
       "    </tr>\n",
       "    <tr>\n",
       "      <th>10607</th>\n",
       "      <td>2002</td>\n",
       "      <td>2.950000</td>\n",
       "      <td>25.023256</td>\n",
       "    </tr>\n",
       "    <tr>\n",
       "      <th>10608</th>\n",
       "      <td>2003</td>\n",
       "      <td>4.880000</td>\n",
       "      <td>28.830703</td>\n",
       "    </tr>\n",
       "    <tr>\n",
       "      <th>10609</th>\n",
       "      <td>2004</td>\n",
       "      <td>5.460000</td>\n",
       "      <td>38.265000</td>\n",
       "    </tr>\n",
       "    <tr>\n",
       "      <th>10610</th>\n",
       "      <td>2005</td>\n",
       "      <td>7.330000</td>\n",
       "      <td>54.521090</td>\n",
       "    </tr>\n",
       "    <tr>\n",
       "      <th>10611</th>\n",
       "      <td>2006</td>\n",
       "      <td>6.390000</td>\n",
       "      <td>65.144063</td>\n",
       "    </tr>\n",
       "    <tr>\n",
       "      <th>10612</th>\n",
       "      <td>2007</td>\n",
       "      <td>6.250000</td>\n",
       "      <td>72.389078</td>\n",
       "    </tr>\n",
       "    <tr>\n",
       "      <th>10613</th>\n",
       "      <td>2008</td>\n",
       "      <td>7.960000</td>\n",
       "      <td>97.255973</td>\n",
       "    </tr>\n",
       "    <tr>\n",
       "      <th>10614</th>\n",
       "      <td>2009</td>\n",
       "      <td>3.710000</td>\n",
       "      <td>61.671265</td>\n",
       "    </tr>\n",
       "    <tr>\n",
       "      <th>10615</th>\n",
       "      <td>2010</td>\n",
       "      <td>4.480000</td>\n",
       "      <td>79.495534</td>\n",
       "    </tr>\n",
       "    <tr>\n",
       "      <th>10616</th>\n",
       "      <td>2011</td>\n",
       "      <td>3.950000</td>\n",
       "      <td>111.255598</td>\n",
       "    </tr>\n",
       "    <tr>\n",
       "      <th>10617</th>\n",
       "      <td>2012</td>\n",
       "      <td>2.660000</td>\n",
       "      <td>111.669702</td>\n",
       "    </tr>\n",
       "    <tr>\n",
       "      <th>10618</th>\n",
       "      <td>2013</td>\n",
       "      <td>3.707290</td>\n",
       "      <td>108.658518</td>\n",
       "    </tr>\n",
       "    <tr>\n",
       "      <th>10619</th>\n",
       "      <td>2014</td>\n",
       "      <td>4.347742</td>\n",
       "      <td>98.946008</td>\n",
       "    </tr>\n",
       "  </tbody>\n",
       "</table>\n",
       "</div>"
      ],
      "text/plain": [
       "       year  gas_price_nom  oil_price_nom\n",
       "10560  1955       0.100000       1.930000\n",
       "10561  1956       0.110000       1.930000\n",
       "10562  1957       0.110000       1.900000\n",
       "10563  1958       0.120000       2.080000\n",
       "10564  1959       0.130000       2.080000\n",
       "10565  1960       0.140000       1.900000\n",
       "10566  1961       0.150000       1.800000\n",
       "10567  1962       0.160000       1.800000\n",
       "10568  1963       0.160000       1.800000\n",
       "10569  1964       0.150000       1.800000\n",
       "10570  1965       0.160000       1.800000\n",
       "10571  1966       0.160000       1.800000\n",
       "10572  1967       0.160000       1.800000\n",
       "10573  1968       0.160000       1.800000\n",
       "10574  1969       0.170000       1.800000\n",
       "10575  1970       0.170000       1.800000\n",
       "10576  1971       0.180000       2.240000\n",
       "10577  1972       0.190000       2.480000\n",
       "10578  1973       0.220000       3.290000\n",
       "10579  1974       0.300000      11.580000\n",
       "10580  1975       0.440000      11.530000\n",
       "10581  1976       0.580000      12.800000\n",
       "10582  1977       0.790000      13.920000\n",
       "10583  1978       0.910000      14.020000\n",
       "10584  1979       1.180000      31.610000\n",
       "10585  1980       1.590000      36.830000\n",
       "10586  1981       1.980000      35.930000\n",
       "10587  1982       2.460000      32.970000\n",
       "10588  1983       2.590000      29.550000\n",
       "10589  1984       2.660000      28.780000\n",
       "10590  1985       2.510000      27.560000\n",
       "10591  1986       1.940000      14.430000\n",
       "10592  1987       1.670000      18.435039\n",
       "10593  1988       1.690000      14.923842\n",
       "10594  1989       1.690000      18.226113\n",
       "10595  1990       1.710000      23.725820\n",
       "10596  1991       1.640000      20.003385\n",
       "10597  1992       1.740000      19.320837\n",
       "10598  1993       2.040000      16.971634\n",
       "10599  1994       1.850000      15.817315\n",
       "10600  1995       1.550000      17.016680\n",
       "10601  1996       2.170000      20.668488\n",
       "10602  1997       2.320000      19.092588\n",
       "10603  1998       1.960000      12.715661\n",
       "10604  1999       2.190000      17.970078\n",
       "10605  2000       3.680000      28.495449\n",
       "10606  2001       4.000000      24.443891\n",
       "10607  2002       2.950000      25.023256\n",
       "10608  2003       4.880000      28.830703\n",
       "10609  2004       5.460000      38.265000\n",
       "10610  2005       7.330000      54.521090\n",
       "10611  2006       6.390000      65.144063\n",
       "10612  2007       6.250000      72.389078\n",
       "10613  2008       7.960000      97.255973\n",
       "10614  2009       3.710000      61.671265\n",
       "10615  2010       4.480000      79.495534\n",
       "10616  2011       3.950000     111.255598\n",
       "10617  2012       2.660000     111.669702\n",
       "10618  2013       3.707290     108.658518\n",
       "10619  2014       4.347742      98.946008"
      ]
     },
     "execution_count": 6,
     "metadata": {},
     "output_type": "execute_result"
    }
   ],
   "source": [
    "D = df.loc[np.where(df[\"cty_name\"] == \"United States\")[0], [\"year\", \"gas_price_nom\", \"oil_price_nom\"]]\n",
    "D"
   ]
  },
  {
   "cell_type": "markdown",
   "id": "e68c0d38-919c-4878-8e3e-ff3c808fba87",
   "metadata": {},
   "source": [
    "## Getting the coefficients for a Simple Quadratic Regression"
   ]
  },
  {
   "cell_type": "code",
   "execution_count": 7,
   "id": "21523380-5b2d-4d57-a425-bff445b14ba0",
   "metadata": {},
   "outputs": [],
   "source": [
    "[a, b, c] = np.polyfit(X, Y, 2)"
   ]
  },
  {
   "cell_type": "code",
   "execution_count": 8,
   "id": "9a166115-c9dd-4cf3-ada3-154585b177d7",
   "metadata": {},
   "outputs": [
    {
     "data": {
      "text/plain": [
       "(-11.269789872036315, 12.715293502772141, 1.2649019521387417)"
      ]
     },
     "execution_count": 8,
     "metadata": {},
     "output_type": "execute_result"
    }
   ],
   "source": [
    "a,b,c"
   ]
  },
  {
   "cell_type": "code",
   "execution_count": 9,
   "id": "0de9774b-5ced-4420-a07e-a44efb966594",
   "metadata": {},
   "outputs": [],
   "source": [
    "def grad_a(x, y, a, b, c):\n",
    "    return (y - a*x**2 - b*x - c)*(-2*x**2)\n",
    "def grad_b(x, y, a, b, c):\n",
    "    return (y - a*x**2 - b*x - c)*(-2*x)\n",
    "def grad_c(x, y, a, b, c):\n",
    "    return (y - a*x**2 - b*x - c)*(-2)\n",
    "def swap_grad_a(x, y, a, b, c):\n",
    "    return 2*(x + b/(2*a) - (b**2 +4*a*y - 4*a*c)**0.5/(2*a))*(-b/a**2 + (b**2 + 4*a*y - 4*a*c)**0.5 / (2*a**2) - (y-c)/(a*(b**2 + 4*a*y - 4*a*c)**0.5))\n",
    "def swap_grad_b(x, y, a, b, c):\n",
    "    return 2*(x + b/(2*a) - (b**2 +4*a*y - 4*a*c)**0.5/(2*a))*(1/(2*a) - b/(2*a*(b**2 + 4*a*y - 4*a*c)**0.5))\n",
    "def swap_grad_c(x, y, a, b, c):\n",
    "    return 2*(x + b/(2*a) - (b**2 +4*a*y - 4*a*c)**0.5/(2*a))*(2/(b**2 + 4*a*y - 4*a*c)**0.5)"
   ]
  },
  {
   "cell_type": "code",
   "execution_count": 10,
   "id": "55490a75-7afc-4c9a-a775-25c56a0ea404",
   "metadata": {},
   "outputs": [],
   "source": [
    "def grad_lin_m(x, y, m, c):\n",
    "    return (y - m*x - c)*(-2*x)\n",
    "def grad_lin_c(x, y, m, c):\n",
    "    return (y - m*x - c)*(-2)\n",
    "def swap_grad_lin_m(x, y, m, c):\n",
    "    return (x - y/m + c/m) * 2 * (y/m**2 - c/m**2)\n",
    "def swap_grad_lin_c(x, y, m, c):\n",
    "    return (x - y/m + c/m) * 2 * (1/m)"
   ]
  },
  {
   "cell_type": "code",
   "execution_count": 11,
   "id": "2a3015d3-16c8-4fe9-a7cf-dc246bae29e3",
   "metadata": {},
   "outputs": [],
   "source": [
    "def Swap(X, Y, Z, a0 = a, b0 = b, c0 = c, epochs = 1e5, lr = 1e-7, error = 0.25, ers = 1e-2):\n",
    "    a = a0\n",
    "    b = b0\n",
    "    c = c0\n",
    "    L = []\n",
    "    ep = []\n",
    "    for e in tqdm(range(0, int(epochs))):\n",
    "        gA = 0\n",
    "        gB = 0\n",
    "        gC = 0\n",
    "        err = 0\n",
    "        for i in range(0, len(Z)):\n",
    "            if Z[i] == 1:\n",
    "                gA += lr*grad_a(X[i], Y[i], a, b, c)\n",
    "                gB += lr*grad_b(X[i], Y[i], a, b, c)\n",
    "                gC += lr*grad_c(X[i], Y[i], a, b, c)\n",
    "            if Z[i] == 0:\n",
    "                try:\n",
    "                    if b**2 + 4*a*Y[i] - 4*a*c < 0:\n",
    "                        err += 1\n",
    "                    else:\n",
    "                        gA += lr*swap_grad_a(X[i], Y[i], a, b, c)\n",
    "                        gB += lr*swap_grad_b(X[i], Y[i], a, b, c)\n",
    "                        gC += lr*swap_grad_c(X[i], Y[i], a, b, c)\n",
    "#                    print(gA, gB, gC)\n",
    "                except:\n",
    "                    err += 1\n",
    "        gA /= (len(X) - err)\n",
    "        gB /= (len(X) - err)\n",
    "        gC /= (len(X) - err)\n",
    "        ep.append(e + 1)\n",
    "        L.append(gA**2 + gB**2 + gC**2)\n",
    "        if err/len(Z) < error:\n",
    "            a -= gA * lr\n",
    "            b -= gB * lr\n",
    "            c -= gC * lr\n",
    "        else:\n",
    "            a -= gA * lr\n",
    "            b -= gB * lr\n",
    "            c -= gC * lr\n",
    "        if gA**2 + gB**2 + gC**2 < ers:\n",
    "            plt.plot(ep, L)\n",
    "            print(gA**2 + gB**2 + gC**2)\n",
    "            return [a, b, c]\n",
    "        if e == int(epochs) - 1:\n",
    "            print(gA**2 + gB**2 + gC**2)\n",
    "    print(\"Meh.\")\n",
    "    plt.plot(ep, L)\n",
    "    return [a, b, c]"
   ]
  },
  {
   "cell_type": "code",
   "execution_count": 12,
   "id": "a7a7bae1-e20b-4bc6-a5b6-3e596e3fa340",
   "metadata": {},
   "outputs": [],
   "source": [
    "def SwapLin(X, Y, Z, m0, c0, epochs = 1e5, lr = 1e-7, error = 0.25, ers = 1e-2):\n",
    "    m = m0\n",
    "    c = c0\n",
    "    L = []\n",
    "    ep = []\n",
    "    for e in tqdm(range(0, int(epochs))):\n",
    "        gM = 0\n",
    "        gC = 0\n",
    "        err = 0\n",
    "        for i in range(0, len(Z)):\n",
    "            if Z[i] == 1:\n",
    "                gM += lr*grad_lin_m(X[i], Y[i], m, c)\n",
    "                gC += lr*grad_lin_c(X[i], Y[i], m, c)\n",
    "            if Z[i] == 0:\n",
    "                gM += lr*swap_grad_lin_m(X[i], Y[i], m, c)\n",
    "                gC += lr*swap_grad_lin_c(X[i], Y[i], m, c)\n",
    "        gM /= len(X)\n",
    "        gC /= len(X)\n",
    "        ep.append(e + 1)\n",
    "        L.append(gM**2 + gC**2)\n",
    "        if err/len(Z) < error:\n",
    "            m -= gM * lr\n",
    "            c -= gC * lr\n",
    "        else:\n",
    "            m -= gM * lr\n",
    "            c -= gC * lr\n",
    "        if gM**2 + gC**2 < ers:\n",
    "            plt.plot(ep, L)\n",
    "            print(gM**2 + gC**2)\n",
    "            return [m, c]\n",
    "        if e == int(epochs) - 1:\n",
    "            print(gM**2 + gC**2)\n",
    "    print(\"Meh.\")\n",
    "    plt.plot(ep, L)\n",
    "    return [m, c]"
   ]
  },
  {
   "cell_type": "code",
   "execution_count": 13,
   "id": "033263d1-c31e-4b62-a346-9f4e54573559",
   "metadata": {},
   "outputs": [],
   "source": [
    "def StochasticSwap(X, Y, Z, a0 = a, b0 = b, c0 = c, epochs = 1e5, lr = 1e-7, error = 0.25, ers = 1e-2, batch = 200):\n",
    "    a = a0\n",
    "    b = b0\n",
    "    c = c0\n",
    "    L = []\n",
    "    ep = []\n",
    "    Batch = batch\n",
    "    for e in tqdm(range(0, int(epochs))):\n",
    "        gA = 0\n",
    "        gB = 0\n",
    "        gC = 0\n",
    "        err = 0\n",
    " #       print(e)\n",
    " #       print(a, b, c)\n",
    "        I = random.sample(range(0, len(X)), Batch)\n",
    "        X_new = X[I]\n",
    "        Y_new = Y[I]\n",
    "        Z_new = Z[I]\n",
    "        for i in range(0, len(Z_new)):\n",
    "            if Z[i] == 1:\n",
    "                gA += lr*grad_a(X_new[i], Y_new[i], a, b, c)\n",
    "                gB += lr*grad_b(X_new[i], Y_new[i], a, b, c)\n",
    "                gC += lr*grad_c(X_new[i], Y_new[i], a, b, c)\n",
    "  #              print(gA, gB, gC)\n",
    "            if Z[i] == 0:\n",
    "                try:\n",
    " #                   print(\"Yes.\")\n",
    " #                   print(swap_grad_a(X_new[i], Y_new[i], a, b, c))\n",
    " #                   print(swap_grad_b(X_new[i], Y_new[i], a, b, c))\n",
    " #                   print(swap_grad_c(X_new[i], Y_new[i], a, b, c))\n",
    "                    if b**2 + 4*a*Y_new[i] - 4*a*c < 0:\n",
    "                        err += 1\n",
    "                    else:\n",
    "                        gA += lr*swap_grad_a(X_new[i], Y_new[i], a, b, c)\n",
    "                        gB += lr*swap_grad_b(X_new[i], Y_new[i], a, b, c)\n",
    "                        gC += lr*swap_grad_c(X_new[i], Y_new[i], a, b, c)\n",
    "#                    print(gA, gB, gC)\n",
    "                except:\n",
    "                    err += 1\n",
    "#                    print(\"Nope.\")\n",
    "#                    print(gA, gB, gC)\n",
    " #       print(gA, gB, gC)\n",
    "        gA /= (Batch - err)\n",
    "        gB /= (Batch - err)\n",
    "        gC /= (Batch - err)\n",
    "        ep.append(e + 1)\n",
    "        L.append(gA**2 + gB**2 + gC**2)\n",
    " #       print(gA, gB, gC)\n",
    "        if err/len(Z_new) < error:\n",
    "            a -= gA * lr\n",
    "            b -= gB * lr\n",
    "            c -= gC * lr\n",
    "        else:\n",
    "            a -= gA * lr\n",
    "            b -= gB * lr\n",
    "            c -= gC * lr\n",
    "        if gA**2 + gB**2 + gC**2 < ers:\n",
    "            plt.plot(ep, L)\n",
    "            print(gA**2 + gB**2 + gC**2)\n",
    "            return [a, b, c]\n",
    "        if e == int(epochs) - 1:\n",
    "            print(gA**2 + gB**2 + gC**2)\n",
    "    print(\"Meh.\")\n",
    "    plt.plot(ep, L)\n",
    "    return [a, b, c]"
   ]
  },
  {
   "cell_type": "code",
   "execution_count": 14,
   "id": "7e170274-465a-482e-b6e1-6b7a7ed76141",
   "metadata": {},
   "outputs": [],
   "source": [
    "m1, c1, r, p, std_err = stats.linregress(X1, Y1)\n",
    "m2, c2, _, _, _ = stats.linregress(Y2, X2)\n",
    "c4 = -c2/m2\n",
    "m4 = 1/m2\n",
    "m2, c2, _, _, _ = stats.linregress(X2, Y2)\n",
    "m3, c3, _, _, _ = stats.linregress(X, Y)"
   ]
  },
  {
   "cell_type": "code",
   "execution_count": 15,
   "id": "d3ba193b-bed1-496b-b603-7fc39ad4ffae",
   "metadata": {},
   "outputs": [
    {
     "name": "stderr",
     "output_type": "stream",
     "text": [
      "100%|█████████████████████████████████████| 40000/40000 [22:33<00:00, 29.54it/s]\n"
     ]
    },
    {
     "name": "stdout",
     "output_type": "stream",
     "text": [
      "2.3610921850719418e-07\n",
      "Meh.\n"
     ]
    },
    {
     "data": {
      "image/png": "[encoded data removed]",
      "text/plain": [
       "<Figure size 640x480 with 1 Axes>"
      ]
     },
     "metadata": {},
     "output_type": "display_data"
    }
   ],
   "source": [
    "S = Swap(X, Y, Z, epochs = 4e4, lr = 1e-2, ers = 1e-30)"
   ]
  },
  {
   "cell_type": "code",
   "execution_count": 16,
   "id": "586dda3a-e4cb-4528-930b-601d14ecdb29",
   "metadata": {},
   "outputs": [
    {
     "name": "stderr",
     "output_type": "stream",
     "text": [
      "100%|█████████████████████████████████████| 70000/70000 [22:59<00:00, 50.74it/s]\n"
     ]
    },
    {
     "name": "stdout",
     "output_type": "stream",
     "text": [
      "1.8152497105468313e-20\n",
      "Meh.\n"
     ]
    },
    {
     "data": {
      "image/png": "[encoded data removed]",
      "text/plain": [
       "<Figure size 640x480 with 1 Axes>"
      ]
     },
     "metadata": {},
     "output_type": "display_data"
    }
   ],
   "source": [
    "L = SwapLin(X, Y, Z, m0 = m3, c0 = c3, epochs = 7e4, lr = 1e-1, ers = 1e-30)"
   ]
  },
  {
   "cell_type": "code",
   "execution_count": 17,
   "id": "c1e09e40-5d37-4a10-aaa2-d86fd1b3ea4c",
   "metadata": {},
   "outputs": [
    {
     "data": {
      "text/plain": [
       "11220"
      ]
     },
     "execution_count": 17,
     "metadata": {},
     "output_type": "execute_result"
    }
   ],
   "source": [
    "len(X)"
   ]
  },
  {
   "cell_type": "code",
   "execution_count": 18,
   "id": "737bb966-bd5b-4eca-8779-85562a888db8",
   "metadata": {},
   "outputs": [
    {
     "data": {
      "text/plain": [
       "(-11.269789872036315, 12.715293502772141, 1.2649019521387417)"
      ]
     },
     "execution_count": 18,
     "metadata": {},
     "output_type": "execute_result"
    }
   ],
   "source": [
    "a, b, c"
   ]
  },
  {
   "cell_type": "code",
   "execution_count": 19,
   "id": "7e6774aa-2063-4bd3-8dcd-26c1e93fec1c",
   "metadata": {},
   "outputs": [
    {
     "data": {
      "text/plain": [
       "[-11.33183060777661, 12.49207752587935, 1.1443830629343317]"
      ]
     },
     "execution_count": 19,
     "metadata": {},
     "output_type": "execute_result"
    }
   ],
   "source": [
    "S"
   ]
  },
  {
   "cell_type": "code",
   "execution_count": 20,
   "id": "ba0b2330-df96-4aea-82c5-89ee44c9e3b2",
   "metadata": {},
   "outputs": [],
   "source": [
    "def makeLineSwap(x, y, z, m1, c1, m2, c2):\n",
    "    Y = []\n",
    "    for i in range(0, len(z)):\n",
    "        if z[i] == 1:\n",
    "            Y.append(m1*x[i] + c1)\n",
    "        else:\n",
    "            Y.append(m2*x[i] + c2)\n",
    "    return x, Y"
   ]
  },
  {
   "cell_type": "code",
   "execution_count": 21,
   "id": "b6f5c307-c47f-4da3-8161-2d82cf16a5b9",
   "metadata": {},
   "outputs": [],
   "source": [
    "def makeLine(x, y, m, c):\n",
    "    x0 = min(x)\n",
    "    x1 = max(x)\n",
    "    return [x0, x1], [m*x0 + c, m*x1 + c]"
   ]
  },
  {
   "cell_type": "code",
   "execution_count": 22,
   "id": "f0cc73ba-2747-4610-ab00-795d3d5e5b6c",
   "metadata": {},
   "outputs": [],
   "source": [
    "def QuadPred(x, a, b, c):\n",
    "    return np.array([a*x[i]**2 + b*x[i] + c for i in range(len(x))])"
   ]
  },
  {
   "cell_type": "code",
   "execution_count": 23,
   "id": "519bd48c-e0a5-4551-b93c-c6a3491fbe5c",
   "metadata": {},
   "outputs": [
    {
     "data": {
      "image/png": "[encoded data removed]",
      "text/plain": [
       "<Figure size 640x480 with 1 Axes>"
      ]
     },
     "metadata": {},
     "output_type": "display_data"
    }
   ],
   "source": [
    "plt.scatter(X1, Y1, label = \"Y on X\", c = \"orange\")\n",
    "plt.scatter(X2, Y2, label = \"X on Y\", c = \"purple\")\n",
    "\n",
    "A, B = makeLine(X, Y, m3, c3)\n",
    "plt.plot(A, B, label = \"Simple Linear Regression\", c = \"green\")\n",
    "plt.title(\"Oil vs Gas Simple Linear Regression\")\n",
    "plt.xlabel(\"Oil\")\n",
    "plt.ylabel(\"Gas\")\n",
    "plt.legend()\n",
    "plt.show()"
   ]
  },
  {
   "cell_type": "code",
   "execution_count": 24,
   "id": "6ed84788-0347-4e91-9004-f247931501d0",
   "metadata": {},
   "outputs": [
    {
     "data": {
      "text/plain": [
       "(3.1874878879474853, 2.566426674421489)"
      ]
     },
     "execution_count": 24,
     "metadata": {},
     "output_type": "execute_result"
    }
   ],
   "source": [
    "m3, c3"
   ]
  },
  {
   "cell_type": "code",
   "execution_count": 25,
   "id": "68350cd1-9117-4c14-b2d1-7e85caf2440b",
   "metadata": {},
   "outputs": [
    {
     "data": {
      "image/png": "[encoded data removed]",
      "text/plain": [
       "<Figure size 640x480 with 1 Axes>"
      ]
     },
     "metadata": {},
     "output_type": "display_data"
    }
   ],
   "source": [
    "plt.scatter(X1, Y1, label = \"Y on X\", c = \"orange\")\n",
    "plt.scatter(X2, Y2, label = \"X on Y\", c = \"purple\")\n",
    "\n",
    "A, B = makeLineSwap(X, Y, Z, m1, c1, m2, c2)\n",
    "plt.scatter(A, B, label = \"Double Regression(Without SWAP)\", c = \"green\")\n",
    "plt.title(\"Oil vs Gas Double Regression\")\n",
    "plt.xlabel(\"Oil\")\n",
    "plt.ylabel(\"Gas\")\n",
    "plt.legend()\n",
    "plt.show()"
   ]
  },
  {
   "cell_type": "code",
   "execution_count": 26,
   "id": "bdc65d2b-5e38-41f6-b06c-7f3e540ba921",
   "metadata": {},
   "outputs": [
    {
     "data": {
      "text/plain": [
       "(4.379099039459698, 2.217083255904215, -7.1232139653074595, 9.61235437529847)"
      ]
     },
     "execution_count": 26,
     "metadata": {},
     "output_type": "execute_result"
    }
   ],
   "source": [
    "m1, c1, m2, c2"
   ]
  },
  {
   "cell_type": "code",
   "execution_count": 27,
   "id": "1946a5ef-e1fa-400f-895d-99cef264dfc4",
   "metadata": {},
   "outputs": [
    {
     "data": {
      "image/png": "[encoded data removed]",
      "text/plain": [
       "<Figure size 640x480 with 1 Axes>"
      ]
     },
     "metadata": {},
     "output_type": "display_data"
    }
   ],
   "source": [
    "plt.scatter(X1, Y1, label = \"Y on X\", c = \"orange\")\n",
    "plt.scatter(X2, Y2, label = \"X on Y\", c = \"purple\")\n",
    "\n",
    "A, B = makeLineSwap(X, Y, Z, m1, c1, m4, c4)\n",
    "plt.scatter(A, B, label = \"Double Regression\", c = \"green\")\n",
    "plt.title(\"Oil vs Gas Double Regression\")\n",
    "plt.xlabel(\"Oil\")\n",
    "plt.ylabel(\"Gas\")\n",
    "plt.legend()\n",
    "plt.show()"
   ]
  },
  {
   "cell_type": "code",
   "execution_count": 28,
   "id": "79302c59-92e0-46a3-a452-eb41580c6b7e",
   "metadata": {},
   "outputs": [
    {
     "data": {
      "image/png": "[encoded data removed]",
      "text/plain": [
       "<Figure size 640x480 with 1 Axes>"
      ]
     },
     "metadata": {},
     "output_type": "display_data"
    }
   ],
   "source": [
    "plt.scatter(X1, Y1, label = \"Y on X\", c = \"orange\")\n",
    "plt.scatter(X2, Y2, label = \"X on Y\", c = \"purple\")\n",
    "\n",
    "A, B = makeLine(X, Y, L[0], L[1])\n",
    "plt.plot(A, B, label = \"Swap Linear Regression\", c = \"green\")\n",
    "plt.title(\"Oil vs Gas Swap Linear Regression\")\n",
    "plt.xlabel(\"Oil\")\n",
    "plt.ylabel(\"Gas\")\n",
    "plt.legend()\n",
    "plt.show()"
   ]
  },
  {
   "cell_type": "code",
   "execution_count": 29,
   "id": "b0f71cec-7ae6-4988-8c0a-42720e9e6ce7",
   "metadata": {},
   "outputs": [
    {
     "data": {
      "text/plain": [
       "(4.379099039459698, 2.217083255904215, -28.362517447646457, 23.489404298441745)"
      ]
     },
     "execution_count": 29,
     "metadata": {},
     "output_type": "execute_result"
    }
   ],
   "source": [
    "m1, c1, m4, c4"
   ]
  },
  {
   "cell_type": "code",
   "execution_count": 30,
   "id": "1abb80b9-9a28-4e47-b2c8-b4afc0f6cce9",
   "metadata": {},
   "outputs": [
    {
     "data": {
      "image/png": "[encoded data removed]",
      "text/plain": [
       "<Figure size 640x480 with 1 Axes>"
      ]
     },
     "metadata": {},
     "output_type": "display_data"
    }
   ],
   "source": [
    "plt.scatter(X1, Y1, label = \"Y on X\", c = \"orange\")\n",
    "plt.scatter(X2, Y2, label = \"X on Y\", c = \"purple\")\n",
    "\n",
    "plt.scatter(X,QuadPred(X,a,b,c),c = \"red\", label = 'Best Fit Line')\n",
    "plt.title(\"Oil vs Gas Simple Quadratic\")\n",
    "plt.xlabel(\"Oil\")\n",
    "plt.ylabel(\"Gas\")\n",
    "plt.legend()\n",
    "plt.show()"
   ]
  },
  {
   "cell_type": "code",
   "execution_count": 31,
   "id": "b40e795e-52a2-4aa8-915e-00cd96a3b431",
   "metadata": {},
   "outputs": [
    {
     "data": {
      "text/plain": [
       "(-11.269789872036315, 12.715293502772141, 1.2649019521387417)"
      ]
     },
     "execution_count": 31,
     "metadata": {},
     "output_type": "execute_result"
    }
   ],
   "source": [
    "a, b, c"
   ]
  },
  {
   "cell_type": "code",
   "execution_count": 32,
   "id": "391e9aaa-2721-4f2f-9793-2e03ae0d76ce",
   "metadata": {},
   "outputs": [
    {
     "data": {
      "image/png": "[encoded data removed]",
      "text/plain": [
       "<Figure size 640x480 with 1 Axes>"
      ]
     },
     "metadata": {},
     "output_type": "display_data"
    }
   ],
   "source": [
    "plt.scatter(X1, Y1, label = \"Y on X\", c = \"orange\")\n",
    "plt.scatter(X2, Y2, label = \"X on Y\", c = \"purple\")\n",
    "plt.scatter(X,QuadPred(X,S[0],S[1],S[2]),c = \"blue\", label = 'Swap Line')\n",
    "plt.title(\"Oil vs Gas SWAP\")\n",
    "plt.xlabel(\"Oil\")\n",
    "plt.ylabel(\"Gas\")\n",
    "plt.legend()\n",
    "plt.show()"
   ]
  },
  {
   "cell_type": "code",
   "execution_count": 33,
   "id": "39355ac3-9bdb-4a92-b291-ff77c44817d9",
   "metadata": {},
   "outputs": [
    {
     "data": {
      "text/plain": [
       "[-11.33183060777661, 12.49207752587935, 1.1443830629343317]"
      ]
     },
     "execution_count": 33,
     "metadata": {},
     "output_type": "execute_result"
    }
   ],
   "source": [
    "S"
   ]
  },
  {
   "cell_type": "code",
   "execution_count": 34,
   "id": "d8de1c8b-41fd-4c99-8db3-13e94e77ab51",
   "metadata": {},
   "outputs": [
    {
     "data": {
      "image/png": "[encoded data removed]",
      "text/plain": [
       "<Figure size 640x480 with 1 Axes>"
      ]
     },
     "metadata": {},
     "output_type": "display_data"
    }
   ],
   "source": [
    "\"\"\"\n",
    "plt.scatter(\n",
    "    X,\n",
    "    Y,\n",
    "    c = Z,\n",
    "    label = 'Observations'\n",
    ")\"\"\"\n",
    "plt.scatter(X1, Y1, label = \"Y on X\", c = \"orange\")\n",
    "plt.scatter(X2, Y2, label = \"X on Y\", c = \"purple\")\n",
    "\n",
    "plt.scatter(X,QuadPred(X,a,b,c),c = \"red\", label = 'Best Fit Line')\n",
    "#plt.scatter(X,QuadPred(X,S[0],S[1],S[2]),c = \"blue\", label = 'Swap Line')\n",
    "A, B = makeLineSwap(X, Y, Z, m1, c1, m2, c2)\n",
    "plt.scatter(A, B, label = \"Two Simple Linear Regression\", c = \"green\")\n",
    "A, B = makeLineSwap(X, Y, Z, m1, c1, m4, c4)\n",
    "plt.scatter(A, B, label = \"Two SWAP Linear Regression\", c = \"black\")\n",
    "A, B = makeLine(X, Y, m3, c3)\n",
    "plt.plot(A, B, label = \"Simple Linear Regression\", c = \"pink\")\n",
    "A, B = makeLine(X, Y, L[0], L[1])\n",
    "plt.plot(A, B, label = \"SWAP Linear Regression\", c = \"blue\")\n",
    "plt.title(\"Oil vs Gas\")\n",
    "plt.xlabel(\"Oil\")\n",
    "plt.ylabel(\"Gas\")\n",
    "plt.legend()\n",
    "plt.show()"
   ]
  },
  {
   "cell_type": "code",
   "execution_count": 35,
   "id": "1186c208-56ad-4c0d-9bd6-eec9a61a9fad",
   "metadata": {},
   "outputs": [
    {
     "data": {
      "image/png": "[encoded data removed]",
      "text/plain": [
       "<Figure size 640x480 with 1 Axes>"
      ]
     },
     "metadata": {},
     "output_type": "display_data"
    }
   ],
   "source": [
    "plt.scatter(X1, Y1, label = \"Y on X\", c = \"orange\")\n",
    "plt.scatter(X2, Y2, label = \"X on Y\", c = \"purple\")\n",
    "\n",
    "plt.scatter(X,QuadPred(X,a,b,c),c = \"red\", label = 'Best Fit Line')\n",
    "plt.scatter(X,QuadPred(X,S[0],S[1],S[2]),c = \"blue\", label = 'Swap Line')\n",
    "A, B = makeLine(X, Y, m3, c3)\n",
    "plt.plot(A, B, label = \"Simple Linear Regression\", c = \"pink\")\n",
    "A, B = makeLine(X, Y, L[0], L[1])\n",
    "plt.plot(A, B, label = \"SWAP Linear Regression\", c = \"blue\")\n",
    "plt.title(\"Oil vs Gas\")\n",
    "plt.xlabel(\"Oil\")\n",
    "plt.ylabel(\"Gas\")\n",
    "plt.legend()\n",
    "plt.show()"
   ]
  },
  {
   "cell_type": "code",
   "execution_count": 36,
   "id": "a995d927-d6e1-4d38-a31c-8a899be47f8c",
   "metadata": {},
   "outputs": [],
   "source": [
    "def error(X, Y, Z, a, b, c):\n",
    "    e = 0\n",
    "    err = 0\n",
    "    for i in (range(0, len(Z))):\n",
    "        if Z[i] == 1:\n",
    "            e += (Y[i] - a*X[i]**2 - b*X[i] - c)**2\n",
    "        else:\n",
    "            if (b**2 - 4*a*c + 4*a*Y[i]) >= 0:\n",
    "                e += (X[i] + b/(2*a) - ((b**2 - 4*a*c + 4*a*Y[i])**0.5)/(2*a))**2\n",
    "            else:\n",
    "                err += 1\n",
    "    return e/(len(X) - err - 3)"
   ]
  },
  {
   "cell_type": "code",
   "execution_count": 37,
   "id": "ca851ee8-16cb-4098-8a0e-7f227501abce",
   "metadata": {},
   "outputs": [
    {
     "name": "stdout",
     "output_type": "stream",
     "text": [
      "Error with 2 Simple Linear Regressions : 1.5314189037544363\n"
     ]
    }
   ],
   "source": [
    "e = 0\n",
    "for i in range(0, len(X1)):\n",
    "    e += (Y1[i] - m1*X[i] - c1)**2\n",
    "for i in range(0, len(X2)):\n",
    "    e += (X2[i] - (Y2[i] - c2)/m2)**2\n",
    "print(\"Error with 2 Simple Linear Regressions : \" + str(e/(len(X) - 2)))"
   ]
  },
  {
   "cell_type": "code",
   "execution_count": 38,
   "id": "043a6698-16ca-460d-b9ab-1b853d84dab0",
   "metadata": {},
   "outputs": [
    {
     "name": "stdout",
     "output_type": "stream",
     "text": [
      "Error with 2 SWAP Linear Regressions : 1.521036549380825\n"
     ]
    }
   ],
   "source": [
    "e = 0\n",
    "for i in range(0, len(X1)):\n",
    "    e += (Y1[i] - m1*X[i] - c1)**2\n",
    "for i in range(0, len(X2)):\n",
    "    e += (X2[i] - (Y2[i] - c4)/m4)**2\n",
    "print(\"Error with 2 SWAP Linear Regressions : \" + str(e/len(X)))"
   ]
  },
  {
   "cell_type": "code",
   "execution_count": 39,
   "id": "c0ce611e-066d-4342-ac2f-74c5295ecd25",
   "metadata": {},
   "outputs": [
    {
     "name": "stdout",
     "output_type": "stream",
     "text": [
      "Error with Simple Linear Regression : 1.2622476964033666\n"
     ]
    }
   ],
   "source": [
    "e = 0\n",
    "for i in range(0, len(X1)):\n",
    "    e += (Y1[i] - m3*X[i] - c3)**2\n",
    "for i in range(0, len(X2)):\n",
    "    e += (X2[i] - (Y2[i] - c3)/m3)**2\n",
    "print(\"Error with Simple Linear Regression : \" + str(e/(len(X) - 2)))"
   ]
  },
  {
   "cell_type": "code",
   "execution_count": 40,
   "id": "e9b13a17-1e44-4b34-9175-d092aef27713",
   "metadata": {},
   "outputs": [
    {
     "name": "stdout",
     "output_type": "stream",
     "text": [
      "Error with SWAP Linear Regression : 1.93924571489791\n"
     ]
    }
   ],
   "source": [
    "e = 0\n",
    "for i in range(0, len(X1)):\n",
    "    e += (Y1[i] - L[0]*X[i] - L[1])**2\n",
    "for i in range(0, len(X2)):\n",
    "    e += (X2[i] - (Y2[i] - L[1])/L[0])**2\n",
    "print(\"Error with SWAP Linear Regression : \" + str(e/(len(X) - 2)))"
   ]
  },
  {
   "cell_type": "code",
   "execution_count": 41,
   "id": "44ea0e80-6ab0-44b4-bdcd-be573c94b8dc",
   "metadata": {},
   "outputs": [
    {
     "name": "stdout",
     "output_type": "stream",
     "text": [
      "Error with Simple Quadratic Regression : 0.6637311051657067\n"
     ]
    }
   ],
   "source": [
    "print(\"Error with Simple Quadratic Regression : \" + str(error(X, Y, Z, a, b, c)))"
   ]
  },
  {
   "cell_type": "code",
   "execution_count": 42,
   "id": "2ef36350-4641-4c4c-805e-f45baf3a25a2",
   "metadata": {},
   "outputs": [
    {
     "name": "stdout",
     "output_type": "stream",
     "text": [
      "Error with Swap Regression : 0.6308593983048355\n"
     ]
    }
   ],
   "source": [
    "print(\"Error with Swap Regression : \" + str(error(X, Y, Z, S[0], S[1], S[2])))"
   ]
  },
  {
   "cell_type": "code",
   "execution_count": 43,
   "id": "120d91a7-32f6-4efd-92b9-b932db8e9f36",
   "metadata": {},
   "outputs": [
    {
     "name": "stdout",
     "output_type": "stream",
     "text": [
      "Quad Err - Swap Err : 0.03287170686087115\n"
     ]
    }
   ],
   "source": [
    "print(\"Quad Err - Swap Err : \" + str(error(X, Y, Z, a, b, c) - error(X, Y, Z, S[0], S[1], S[2])))"
   ]
  }
 ],
 "metadata": {
  "kernelspec": {
   "display_name": "Python 3 (ipykernel)",
   "language": "python",
   "name": "python3"
  },
  "language_info": {
   "codemirror_mode": {
    "name": "ipython",
    "version": 3
   },
   "file_extension": ".py",
   "mimetype": "text/x-python",
   "name": "python",
   "nbconvert_exporter": "python",
   "pygments_lexer": "ipython3",
   "version": "3.12.1"
  }
 },
 "nbformat": 4,
 "nbformat_minor": 5
}
