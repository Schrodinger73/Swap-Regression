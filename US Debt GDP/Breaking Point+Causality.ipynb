{
 "cells": [
  {
   "cell_type": "code",
   "execution_count": 1,
   "id": "ec18432a-aaba-4e58-9366-55618cd44bdc",
   "metadata": {},
   "outputs": [],
   "source": [
    "import numpy as np\n",
    "import pandas as pd\n",
    "import matplotlib.pyplot as plt\n",
    "import random\n",
    "from scipy.stats import f\n",
    "from statsmodels.tsa.stattools import grangercausalitytests\n",
    "from statsmodels.tsa.stattools import adfuller as adf"
   ]
  },
  {
   "cell_type": "code",
   "execution_count": 2,
   "id": "2a1699e0-4d44-4bb3-a03f-0f90740d4e61",
   "metadata": {},
   "outputs": [],
   "source": [
    "gdp = pd.read_csv(\"GDP_Growth.csv\")\n",
    "debt = pd.read_csv(\"public_debt.csv\")"
   ]
  },
  {
   "cell_type": "code",
   "execution_count": 3,
   "id": "eb0549c3-d705-4c04-a025-c02e92fc3326",
   "metadata": {},
   "outputs": [
    {
     "data": {
      "text/html": [
       "<div>\n",
       "<style scoped>\n",
       "    .dataframe tbody tr th:only-of-type {\n",
       "        vertical-align: middle;\n",
       "    }\n",
       "\n",
       "    .dataframe tbody tr th {\n",
       "        vertical-align: top;\n",
       "    }\n",
       "\n",
       "    .dataframe thead th {\n",
       "        text-align: right;\n",
       "    }\n",
       "</style>\n",
       "<table border=\"1\" class=\"dataframe\">\n",
       "  <thead>\n",
       "    <tr style=\"text-align: right;\">\n",
       "      <th></th>\n",
       "      <th>date</th>\n",
       "      <th>value</th>\n",
       "    </tr>\n",
       "  </thead>\n",
       "  <tbody>\n",
       "    <tr>\n",
       "      <th>0</th>\n",
       "      <td>1/1/1947</td>\n",
       "      <td>2034.450</td>\n",
       "    </tr>\n",
       "    <tr>\n",
       "      <th>1</th>\n",
       "      <td>4/1/1947</td>\n",
       "      <td>2029.024</td>\n",
       "    </tr>\n",
       "    <tr>\n",
       "      <th>2</th>\n",
       "      <td>7/1/1947</td>\n",
       "      <td>2024.834</td>\n",
       "    </tr>\n",
       "    <tr>\n",
       "      <th>3</th>\n",
       "      <td>10/1/1947</td>\n",
       "      <td>2056.508</td>\n",
       "    </tr>\n",
       "    <tr>\n",
       "      <th>4</th>\n",
       "      <td>1/1/1948</td>\n",
       "      <td>2087.442</td>\n",
       "    </tr>\n",
       "  </tbody>\n",
       "</table>\n",
       "</div>"
      ],
      "text/plain": [
       "        date     value\n",
       "0   1/1/1947  2034.450\n",
       "1   4/1/1947  2029.024\n",
       "2   7/1/1947  2024.834\n",
       "3  10/1/1947  2056.508\n",
       "4   1/1/1948  2087.442"
      ]
     },
     "execution_count": 3,
     "metadata": {},
     "output_type": "execute_result"
    }
   ],
   "source": [
    "gdp.head()"
   ]
  },
  {
   "cell_type": "code",
   "execution_count": 4,
   "id": "df9a60b3-ffdc-456f-8f77-21e15763a8d1",
   "metadata": {},
   "outputs": [
    {
     "data": {
      "text/html": [
       "<div>\n",
       "<style scoped>\n",
       "    .dataframe tbody tr th:only-of-type {\n",
       "        vertical-align: middle;\n",
       "    }\n",
       "\n",
       "    .dataframe tbody tr th {\n",
       "        vertical-align: top;\n",
       "    }\n",
       "\n",
       "    .dataframe thead th {\n",
       "        text-align: right;\n",
       "    }\n",
       "</style>\n",
       "<table border=\"1\" class=\"dataframe\">\n",
       "  <thead>\n",
       "    <tr style=\"text-align: right;\">\n",
       "      <th></th>\n",
       "      <th>date</th>\n",
       "      <th>value</th>\n",
       "    </tr>\n",
       "  </thead>\n",
       "  <tbody>\n",
       "    <tr>\n",
       "      <th>0</th>\n",
       "      <td>1966-01-01</td>\n",
       "      <td>320999.0</td>\n",
       "    </tr>\n",
       "    <tr>\n",
       "      <th>1</th>\n",
       "      <td>1966-04-01</td>\n",
       "      <td>316097.0</td>\n",
       "    </tr>\n",
       "    <tr>\n",
       "      <th>2</th>\n",
       "      <td>1966-07-01</td>\n",
       "      <td>324748.0</td>\n",
       "    </tr>\n",
       "    <tr>\n",
       "      <th>3</th>\n",
       "      <td>1966-10-01</td>\n",
       "      <td>329319.0</td>\n",
       "    </tr>\n",
       "    <tr>\n",
       "      <th>4</th>\n",
       "      <td>1967-01-01</td>\n",
       "      <td>330947.0</td>\n",
       "    </tr>\n",
       "  </tbody>\n",
       "</table>\n",
       "</div>"
      ],
      "text/plain": [
       "         date     value\n",
       "0  1966-01-01  320999.0\n",
       "1  1966-04-01  316097.0\n",
       "2  1966-07-01  324748.0\n",
       "3  1966-10-01  329319.0\n",
       "4  1967-01-01  330947.0"
      ]
     },
     "execution_count": 4,
     "metadata": {},
     "output_type": "execute_result"
    }
   ],
   "source": [
    "debt.head()"
   ]
  },
  {
   "cell_type": "code",
   "execution_count": 5,
   "id": "bdf6e772-cfd5-44d3-a1ca-9533a75d413a",
   "metadata": {},
   "outputs": [
    {
     "data": {
      "text/html": [
       "<div>\n",
       "<style scoped>\n",
       "    .dataframe tbody tr th:only-of-type {\n",
       "        vertical-align: middle;\n",
       "    }\n",
       "\n",
       "    .dataframe tbody tr th {\n",
       "        vertical-align: top;\n",
       "    }\n",
       "\n",
       "    .dataframe thead th {\n",
       "        text-align: right;\n",
       "    }\n",
       "</style>\n",
       "<table border=\"1\" class=\"dataframe\">\n",
       "  <thead>\n",
       "    <tr style=\"text-align: right;\">\n",
       "      <th></th>\n",
       "      <th>date</th>\n",
       "      <th>value</th>\n",
       "    </tr>\n",
       "  </thead>\n",
       "  <tbody>\n",
       "    <tr>\n",
       "      <th>301</th>\n",
       "      <td>4/1/2022</td>\n",
       "      <td>19895.271</td>\n",
       "    </tr>\n",
       "    <tr>\n",
       "      <th>302</th>\n",
       "      <td>7/1/2022</td>\n",
       "      <td>20054.663</td>\n",
       "    </tr>\n",
       "    <tr>\n",
       "      <th>303</th>\n",
       "      <td>10/1/2022</td>\n",
       "      <td>20182.491</td>\n",
       "    </tr>\n",
       "    <tr>\n",
       "      <th>304</th>\n",
       "      <td>1/1/2023</td>\n",
       "      <td>20282.760</td>\n",
       "    </tr>\n",
       "    <tr>\n",
       "      <th>305</th>\n",
       "      <td>4/1/2023</td>\n",
       "      <td>20404.088</td>\n",
       "    </tr>\n",
       "  </tbody>\n",
       "</table>\n",
       "</div>"
      ],
      "text/plain": [
       "          date      value\n",
       "301   4/1/2022  19895.271\n",
       "302   7/1/2022  20054.663\n",
       "303  10/1/2022  20182.491\n",
       "304   1/1/2023  20282.760\n",
       "305   4/1/2023  20404.088"
      ]
     },
     "execution_count": 5,
     "metadata": {},
     "output_type": "execute_result"
    }
   ],
   "source": [
    "gdp.tail()"
   ]
  },
  {
   "cell_type": "code",
   "execution_count": 6,
   "id": "a2d1adae-e7a8-4b82-81b8-e7e73054d295",
   "metadata": {},
   "outputs": [
    {
     "data": {
      "text/html": [
       "<div>\n",
       "<style scoped>\n",
       "    .dataframe tbody tr th:only-of-type {\n",
       "        vertical-align: middle;\n",
       "    }\n",
       "\n",
       "    .dataframe tbody tr th {\n",
       "        vertical-align: top;\n",
       "    }\n",
       "\n",
       "    .dataframe thead th {\n",
       "        text-align: right;\n",
       "    }\n",
       "</style>\n",
       "<table border=\"1\" class=\"dataframe\">\n",
       "  <thead>\n",
       "    <tr style=\"text-align: right;\">\n",
       "      <th></th>\n",
       "      <th>date</th>\n",
       "      <th>value</th>\n",
       "    </tr>\n",
       "  </thead>\n",
       "  <tbody>\n",
       "    <tr>\n",
       "      <th>224</th>\n",
       "      <td>2022-01-01</td>\n",
       "      <td>30400960.0</td>\n",
       "    </tr>\n",
       "    <tr>\n",
       "      <th>225</th>\n",
       "      <td>2022-04-01</td>\n",
       "      <td>30568582.0</td>\n",
       "    </tr>\n",
       "    <tr>\n",
       "      <th>226</th>\n",
       "      <td>2022-07-01</td>\n",
       "      <td>30928912.0</td>\n",
       "    </tr>\n",
       "    <tr>\n",
       "      <th>227</th>\n",
       "      <td>2022-10-01</td>\n",
       "      <td>31419689.0</td>\n",
       "    </tr>\n",
       "    <tr>\n",
       "      <th>228</th>\n",
       "      <td>2023-01-01</td>\n",
       "      <td>31458438.0</td>\n",
       "    </tr>\n",
       "  </tbody>\n",
       "</table>\n",
       "</div>"
      ],
      "text/plain": [
       "           date       value\n",
       "224  2022-01-01  30400960.0\n",
       "225  2022-04-01  30568582.0\n",
       "226  2022-07-01  30928912.0\n",
       "227  2022-10-01  31419689.0\n",
       "228  2023-01-01  31458438.0"
      ]
     },
     "execution_count": 6,
     "metadata": {},
     "output_type": "execute_result"
    }
   ],
   "source": [
    "debt.tail()"
   ]
  },
  {
   "cell_type": "code",
   "execution_count": 7,
   "id": "f2e26570-5e9a-419e-95a2-580d26e395f9",
   "metadata": {},
   "outputs": [
    {
     "data": {
      "text/plain": [
       "76"
      ]
     },
     "execution_count": 7,
     "metadata": {},
     "output_type": "execute_result"
    }
   ],
   "source": [
    "np.where(gdp[\"date\"] == \"1/1/1966\")[0][0]"
   ]
  },
  {
   "cell_type": "code",
   "execution_count": 8,
   "id": "1a86a461-5e1e-42c0-9312-6f19d63edd72",
   "metadata": {},
   "outputs": [],
   "source": [
    "gdp = gdp.iloc[76:len(gdp)-1, :].reset_index().iloc[:, 1:]"
   ]
  },
  {
   "cell_type": "code",
   "execution_count": 9,
   "id": "8966ddfe-6c70-41b6-9e4d-2ad39f9e2291",
   "metadata": {},
   "outputs": [],
   "source": [
    "X = np.array(gdp[\"value\"])\n",
    "Y = np.array(debt[\"value\"])"
   ]
  },
  {
   "cell_type": "code",
   "execution_count": 10,
   "id": "38b50fbb-ba52-454a-8c7c-315143e873bf",
   "metadata": {},
   "outputs": [
    {
     "data": {
      "text/plain": [
       "<matplotlib.collections.PathCollection at 0x13857b800>"
      ]
     },
     "execution_count": 10,
     "metadata": {},
     "output_type": "execute_result"
    },
    {
     "data": {
      "image/png": "[encoded data removed]",
      "text/plain": [
       "<Figure size 640x480 with 1 Axes>"
      ]
     },
     "metadata": {},
     "output_type": "display_data"
    }
   ],
   "source": [
    "plt.scatter(X, Y)"
   ]
  },
  {
   "cell_type": "code",
   "execution_count": 30,
   "id": "b3d3532c-f1a1-469d-8290-885093a1f972",
   "metadata": {},
   "outputs": [
    {
     "name": "stdout",
     "output_type": "stream",
     "text": [
      "\n",
      "Granger Causality\n",
      "number of lags (no zero) 4\n",
      "ssr based F test:         F=4.8336  , p=0.0009  , df_denom=216, df_num=4\n",
      "ssr based chi2 test:   chi2=20.1401 , p=0.0005  , df=4\n",
      "likelihood ratio test: chi2=19.2891 , p=0.0007  , df=4\n",
      "parameter F test:         F=4.8336  , p=0.0009  , df_denom=216, df_num=4\n"
     ]
    },
    {
     "data": {
      "text/plain": [
       "{4: ({'ssr_ftest': (4.833618756528699, 0.0009406208563516944, 216.0, 4),\n",
       "   'ssr_chi2test': (20.140078152202914, 0.00046858323960858266, 4),\n",
       "   'lrtest': (19.289113315865507, 0.0006895247206454846, 4),\n",
       "   'params_ftest': (4.833618756529079, 0.0009406208563511025, 216.0, 4.0)},\n",
       "  [<statsmodels.regression.linear_model.RegressionResultsWrapper at 0x1385efaa0>,\n",
       "   <statsmodels.regression.linear_model.RegressionResultsWrapper at 0x1385ee390>,\n",
       "   array([[0., 0., 0., 0., 1., 0., 0., 0., 0.],\n",
       "          [0., 0., 0., 0., 0., 1., 0., 0., 0.],\n",
       "          [0., 0., 0., 0., 0., 0., 1., 0., 0.],\n",
       "          [0., 0., 0., 0., 0., 0., 0., 1., 0.]])])}"
      ]
     },
     "execution_count": 30,
     "metadata": {},
     "output_type": "execute_result"
    }
   ],
   "source": [
    "grangercausalitytests(np.vstack([Y, X]).T, [4])"
   ]
  },
  {
   "cell_type": "code",
   "execution_count": 12,
   "id": "add6c899-eaa7-4315-b979-82e2d421c837",
   "metadata": {},
   "outputs": [
    {
     "name": "stdout",
     "output_type": "stream",
     "text": [
      "\n",
      "Granger Causality\n",
      "number of lags (no zero) 4\n",
      "ssr based F test:         F=11.3301 , p=0.0000  , df_denom=216, df_num=4\n",
      "ssr based chi2 test:   chi2=47.2086 , p=0.0000  , df=4\n",
      "likelihood ratio test: chi2=42.8554 , p=0.0000  , df=4\n",
      "parameter F test:         F=11.3301 , p=0.0000  , df_denom=216, df_num=4\n"
     ]
    },
    {
     "data": {
      "text/plain": [
       "{4: ({'ssr_ftest': (11.330066481394832, 2.2984941190763077e-08, 216.0, 4),\n",
       "   'ssr_chi2test': (47.20861033914513, 1.3797220997446821e-09, 4),\n",
       "   'lrtest': (42.85537198023485, 1.1088139507294123e-08, 4),\n",
       "   'params_ftest': (11.33006648139003, 2.298494119093782e-08, 216.0, 4.0)},\n",
       "  [<statsmodels.regression.linear_model.RegressionResultsWrapper at 0x13860ba10>,\n",
       "   <statsmodels.regression.linear_model.RegressionResultsWrapper at 0x138608320>,\n",
       "   array([[0., 0., 0., 0., 1., 0., 0., 0., 0.],\n",
       "          [0., 0., 0., 0., 0., 1., 0., 0., 0.],\n",
       "          [0., 0., 0., 0., 0., 0., 1., 0., 0.],\n",
       "          [0., 0., 0., 0., 0., 0., 0., 1., 0.]])])}"
      ]
     },
     "execution_count": 12,
     "metadata": {},
     "output_type": "execute_result"
    }
   ],
   "source": [
    "grangercausalitytests(np.vstack([X, Y]).T, [4])"
   ]
  },
  {
   "cell_type": "code",
   "execution_count": 13,
   "id": "f6163bb6-fc27-495f-bfd4-4b1ee88c03a1",
   "metadata": {},
   "outputs": [
    {
     "data": {
      "text/plain": [
       "(1.625899620509146,\n",
       " 0.997933233989359,\n",
       " 3,\n",
       " 225,\n",
       " {'1%': -3.4597521044060353,\n",
       "  '5%': -2.874472927517147,\n",
       "  '10%': -2.5736628197530864})"
      ]
     },
     "execution_count": 13,
     "metadata": {},
     "output_type": "execute_result"
    }
   ],
   "source": [
    "adf(X, 3, autolag = None)"
   ]
  },
  {
   "cell_type": "code",
   "execution_count": 14,
   "id": "c18c362c-ccf9-4f33-821c-e3fbfdddb1ff",
   "metadata": {},
   "outputs": [],
   "source": [
    "maxlag = 100\n",
    "lags = list(range(1, maxlag + 1))\n",
    "X_p = [adf(X, i, autolag = None)[1] for i in range(1, maxlag + 1)]\n",
    "Y_p = [adf(Y, i, autolag = None)[1] for i in range(1, maxlag + 1)]"
   ]
  },
  {
   "cell_type": "code",
   "execution_count": 15,
   "id": "455870a6-ad33-4e75-8714-148045a460f2",
   "metadata": {},
   "outputs": [
    {
     "data": {
      "image/png": "[encoded data removed]",
      "text/plain": [
       "<Figure size 640x480 with 1 Axes>"
      ]
     },
     "metadata": {},
     "output_type": "display_data"
    }
   ],
   "source": [
    "plt.plot(lags, X_p, label = \"GDP\")\n",
    "plt.plot(lags, Y_p, label = \"Debt\")\n",
    "plt.legend()\n",
    "plt.show()"
   ]
  },
  {
   "cell_type": "code",
   "execution_count": 16,
   "id": "4decdf81-a102-4c73-bc2e-805a56ba2cd5",
   "metadata": {},
   "outputs": [
    {
     "data": {
      "text/plain": [
       "(4.174535446322641,\n",
       " 1.0,\n",
       " 13,\n",
       " 215,\n",
       " {'1%': -3.461136478222043,\n",
       "  '5%': -2.875078880098608,\n",
       "  '10%': -2.5739861168199027},\n",
       " 5872.419703762353)"
      ]
     },
     "execution_count": 16,
     "metadata": {},
     "output_type": "execute_result"
    }
   ],
   "source": [
    "adf(Y)"
   ]
  },
  {
   "cell_type": "code",
   "execution_count": 17,
   "id": "dc55c78f-7865-4ced-81f6-ad6e0862f67e",
   "metadata": {},
   "outputs": [],
   "source": [
    "def linReg(x, y):\n",
    "    y = y.reshape((len(y), 1))\n",
    "    x = np.hstack((np.ones((len(x), 1)), x.reshape((len(x), 1))))\n",
    "    return np.dot(np.dot(np.linalg.inv(np.dot(x.T, x)), x.T), y)"
   ]
  },
  {
   "cell_type": "code",
   "execution_count": 18,
   "id": "b6e30b22-4eba-4200-bf2c-273214d83e9c",
   "metadata": {},
   "outputs": [],
   "source": [
    "def quadReg(x, y):\n",
    "    y = y.reshape((len(y), 1))\n",
    "    x = np.hstack((np.ones((len(x), 1)), x.reshape((len(x), 1)), (x**2).reshape((len(x), 1))))\n",
    "    return np.dot(np.dot(np.linalg.inv(np.dot(x.T, x)), x.T), y)"
   ]
  },
  {
   "cell_type": "code",
   "execution_count": 19,
   "id": "ee5041ae-16ce-424a-9d64-ebf26418f575",
   "metadata": {},
   "outputs": [],
   "source": [
    "def F_Value_Lin(X, Y, z):\n",
    "    X1 = X[X <= z]\n",
    "    Y1 = Y[X <= z]\n",
    "    X2 = X[X > z]\n",
    "    Y2 = Y[X > z]\n",
    "    B1 = linReg(X1, Y1)\n",
    "    B2 = linReg(X2, Y2)\n",
    "    B = linReg(X, Y)\n",
    "    e1 = Y1 - np.dot(np.hstack((np.ones((len(X1), 1)), X1.reshape((len(X1), 1)))), B1)\n",
    "    e2 = Y2 - np.dot(np.hstack((np.ones((len(X2), 1)), X2.reshape((len(X2), 1)))), B2)\n",
    "    e = Y - np.dot(np.hstack((np.ones((len(X), 1)), X.reshape((len(X), 1)))), B)\n",
    "    e = e[0][0]\n",
    "    e1 = e1[0][0]\n",
    "    e2 = e2[0][0]\n",
    "    n = len(X1)\n",
    "    m = len(X2)\n",
    "    p = 2\n",
    "    f_v = (n + m - 2*p)/p * (np.dot(e.T, e) - np.dot(e1.T, e1) - np.dot(e2.T, e2))/(np.dot(e1.T, e1) + np.dot(e2.T, e2))\n",
    "    return 1 - f.cdf(f_v, p, n + m - 2*p)"
   ]
  },
  {
   "cell_type": "code",
   "execution_count": 20,
   "id": "d5f4f1fb-62e6-47dc-a925-4b671e7f8054",
   "metadata": {},
   "outputs": [],
   "source": [
    "def F_Value_Quad(X, Y, z):\n",
    "    X1 = X[X <= z]\n",
    "    Y1 = Y[X <= z]\n",
    "    X2 = X[X > z]\n",
    "    Y2 = Y[X > z]\n",
    "    B1 = quadReg(X1, Y1)\n",
    "    B2 = quadReg(X2, Y2)\n",
    "    B = quadReg(X, Y)\n",
    "    e1 = Y1 - np.dot(np.hstack((np.ones((len(X1), 1)), X1.reshape((len(X1), 1)), (X1**2).reshape((len(X1), 1)))), B1)\n",
    "    e2 = Y2 - np.dot(np.hstack((np.ones((len(X2), 1)), X2.reshape((len(X2), 1)), (X2**2).reshape((len(X2), 1)))), B2)\n",
    "    e = Y - np.dot(np.hstack((np.ones((len(X), 1)), X.reshape((len(X), 1)), (X**2).reshape((len(X), 1)))), B)\n",
    "    e = e[0][0]\n",
    "    e1 = e1[0][0]\n",
    "    e2 = e2[0][0]\n",
    "    n = len(X1)\n",
    "    m = len(X2)\n",
    "    p = 3\n",
    "    f_v = (n + m - 2*p)/p * (np.dot(e.T, e) - np.dot(e1.T, e1) - np.dot(e2.T, e2))/(np.dot(e1.T, e1) + np.dot(e2.T, e2))\n",
    "    return 1 - f.cdf(f_v, p, n + m - 2*p)"
   ]
  },
  {
   "cell_type": "code",
   "execution_count": 21,
   "id": "07aa4177-327d-40e4-93da-6ca22de1bc1c",
   "metadata": {},
   "outputs": [
    {
     "name": "stdout",
     "output_type": "stream",
     "text": [
      "1.1102230246251565e-16\n",
      "6333.848\n"
     ]
    }
   ],
   "source": [
    "F_Val_Lin = []\n",
    "for i in range(0, len(X)):\n",
    "    try:\n",
    "        F_Val_Lin.append(F_Value_Lin(X, Y, X[i]))\n",
    "    except:\n",
    "        F_Val_Lin.append(1e9)\n",
    "F_Val_Lin = np.array(F_Val_Lin)\n",
    "print(min(F_Val_Lin))\n",
    "print(X[np.where(F_Val_Lin == min(F_Val_Lin))[0][0]])"
   ]
  },
  {
   "cell_type": "code",
   "execution_count": 22,
   "id": "c60216f1-0804-4d8b-ad63-0631ab1ea0d8",
   "metadata": {},
   "outputs": [
    {
     "data": {
      "text/plain": [
       "<matplotlib.lines.Line2D at 0x1110cb380>"
      ]
     },
     "execution_count": 22,
     "metadata": {},
     "output_type": "execute_result"
    },
    {
     "data": {
      "image/png": "[encoded data removed]",
      "text/plain": [
       "<Figure size 640x480 with 1 Axes>"
      ]
     },
     "metadata": {},
     "output_type": "display_data"
    }
   ],
   "source": [
    "plt.scatter(X, Y)\n",
    "plt.axvline(X[np.where(F_Val_Lin == min(F_Val_Lin))[0][0]])"
   ]
  },
  {
   "cell_type": "code",
   "execution_count": 23,
   "id": "04eb5735-ddd2-4d9c-a053-08a6b67a0fce",
   "metadata": {},
   "outputs": [
    {
     "name": "stdout",
     "output_type": "stream",
     "text": [
      "1.1102230246251565e-16\n",
      "9404.494\n"
     ]
    }
   ],
   "source": [
    "F_Val_Quad = []\n",
    "for i in range(0, len(X)):\n",
    "    try:\n",
    "        F_Val_Quad.append(F_Value_Quad(X, Y, X[i]))\n",
    "    except:\n",
    "        F_Val_Quad.append(1e9)\n",
    "F_Val_Quad = np.array(F_Val_Quad)\n",
    "print(min(F_Val_Quad))\n",
    "print(X[np.where(F_Val_Quad == min(F_Val_Quad))[0][0]])"
   ]
  },
  {
   "cell_type": "code",
   "execution_count": 24,
   "id": "ac012d5a-2ef7-4cc8-8b6d-32a787e528e0",
   "metadata": {},
   "outputs": [
    {
     "data": {
      "text/plain": [
       "<matplotlib.lines.Line2D at 0x1386cfbc0>"
      ]
     },
     "execution_count": 24,
     "metadata": {},
     "output_type": "execute_result"
    },
    {
     "data": {
      "image/png": "[encoded data removed]",
      "text/plain": [
       "<Figure size 640x480 with 1 Axes>"
      ]
     },
     "metadata": {},
     "output_type": "display_data"
    }
   ],
   "source": [
    "plt.scatter(X, Y)\n",
    "plt.axvline(X[np.where(F_Val_Quad == min(F_Val_Quad))[0][0]])"
   ]
  }
 ],
 "metadata": {
  "kernelspec": {
   "display_name": "Python 3 (ipykernel)",
   "language": "python",
   "name": "python3"
  },
  "language_info": {
   "codemirror_mode": {
    "name": "ipython",
    "version": 3
   },
   "file_extension": ".py",
   "mimetype": "text/x-python",
   "name": "python",
   "nbconvert_exporter": "python",
   "pygments_lexer": "ipython3",
   "version": "3.12.1"
  }
 },
 "nbformat": 4,
 "nbformat_minor": 5
}
