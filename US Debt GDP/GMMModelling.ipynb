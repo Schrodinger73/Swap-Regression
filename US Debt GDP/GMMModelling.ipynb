{
 "cells": [
  {
   "cell_type": "code",
   "execution_count": 1,
   "id": "853ca74b-1515-4afd-ad5d-86ce9a3ae009",
   "metadata": {},
   "outputs": [],
   "source": [
    "import numpy as np\n",
    "import pandas as pd\n",
    "import matplotlib.pyplot as plt\n",
    "from tqdm import tqdm\n",
    "import math\n",
    "from statsmodels.tsa.stattools import adfuller as adf\n",
    "from sklearn.metrics import r2_score\n",
    "from sklearn.mixture import GaussianMixture"
   ]
  },
  {
   "cell_type": "code",
   "execution_count": 2,
   "id": "41ed88fa-88f0-4ff6-a861-76a15e8b6f85",
   "metadata": {},
   "outputs": [],
   "source": [
    "gdp = pd.read_csv(\"US_Nominal_GDP.csv\")\n",
    "debt = pd.read_csv(\"public_debt.csv\")\n",
    "gdp = gdp.rename(columns={'DATE': 'date', 'NGDPSAXDCUSQ': 'value'})"
   ]
  },
  {
   "cell_type": "code",
   "execution_count": 3,
   "id": "04b12d0f-740f-4822-9676-8bb99dc57040",
   "metadata": {},
   "outputs": [],
   "source": [
    "gdp = gdp.iloc[64:len(gdp)-5, :].reset_index().iloc[:, 1:]"
   ]
  },
  {
   "cell_type": "code",
   "execution_count": 4,
   "id": "7167291d-1ae4-4c04-b392-b2bbd9444ddb",
   "metadata": {},
   "outputs": [],
   "source": [
    "X = np.array(gdp[\"value\"])\n",
    "Y = np.array(debt[\"value\"])\n",
    "X = X/1e6\n",
    "Y = Y/1e6\n",
    "plt.scatter(X, Y)"
   ]
  },
  {
   "cell_type": "code",
   "execution_count": 5,
   "id": "fbecdfa2-d1f6-4d12-90d3-6681ac686099",
   "metadata": {},
   "outputs": [],
   "source": [
    "mix = [[X[i], Y[i]] for i in range(len(X))]\n",
    "gmm = GaussianMixture(n_components=2).fit(mix)\n",
    "Z = gmm.predict(mix)\n",
    "\n",
    "plt.scatter(X[Z == 0], Y[Z == 0], label = 0)\n",
    "plt.scatter(X[Z == 1], Y[Z == 1], label = 1)\n",
    "plt.legend()\n",
    "plt.show()"
   ]
  }
 ],
 "metadata": {
  "kernelspec": {
   "display_name": "Python 3 (ipykernel)",
   "language": "python",
   "name": "python3"
  },
  "language_info": {
   "codemirror_mode": {
    "name": "ipython",
    "version": 3
   },
   "file_extension": ".py",
   "mimetype": "text/x-python",
   "name": "python",
   "nbconvert_exporter": "python",
   "pygments_lexer": "ipython3",
   "version": "3.12.1"
  }
 },
 "nbformat": 4,
 "nbformat_minor": 5
}
